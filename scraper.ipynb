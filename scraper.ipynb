{
  "cells": [
    {
      "cell_type": "code",
      "execution_count": 104,
      "metadata": {},
      "outputs": [
        {
          "name": "stdout",
          "output_type": "stream",
          "text": [
            "Requirement already satisfied: pandas in /Users/sufyan/opt/anaconda3/envs/rag/lib/python3.10/site-packages (2.2.2)\n",
            "Requirement already satisfied: requests in /Users/sufyan/opt/anaconda3/envs/rag/lib/python3.10/site-packages (2.32.3)\n",
            "Requirement already satisfied: numpy>=1.22.4 in /Users/sufyan/opt/anaconda3/envs/rag/lib/python3.10/site-packages (from pandas) (2.1.0)\n",
            "Requirement already satisfied: python-dateutil>=2.8.2 in /Users/sufyan/opt/anaconda3/envs/rag/lib/python3.10/site-packages (from pandas) (2.9.0)\n",
            "Requirement already satisfied: pytz>=2020.1 in /Users/sufyan/opt/anaconda3/envs/rag/lib/python3.10/site-packages (from pandas) (2024.2)\n",
            "Requirement already satisfied: tzdata>=2022.7 in /Users/sufyan/opt/anaconda3/envs/rag/lib/python3.10/site-packages (from pandas) (2024.1)\n",
            "Requirement already satisfied: charset-normalizer<4,>=2 in /Users/sufyan/opt/anaconda3/envs/rag/lib/python3.10/site-packages (from requests) (3.3.2)\n",
            "Requirement already satisfied: idna<4,>=2.5 in /Users/sufyan/opt/anaconda3/envs/rag/lib/python3.10/site-packages (from requests) (3.8)\n",
            "Requirement already satisfied: urllib3<3,>=1.21.1 in /Users/sufyan/opt/anaconda3/envs/rag/lib/python3.10/site-packages (from requests) (2.2.2)\n",
            "Requirement already satisfied: certifi>=2017.4.17 in /Users/sufyan/opt/anaconda3/envs/rag/lib/python3.10/site-packages (from requests) (2024.7.4)\n",
            "Requirement already satisfied: six>=1.5 in /Users/sufyan/opt/anaconda3/envs/rag/lib/python3.10/site-packages (from python-dateutil>=2.8.2->pandas) (1.16.0)\n"
          ]
        }
      ],
      "source": [
        "!pip install pandas requests"
      ]
    },
    {
      "cell_type": "code",
      "execution_count": 105,
      "metadata": {},
      "outputs": [
        {
          "name": "stdout",
          "output_type": "stream",
          "text": [
            "Requirement already satisfied: ntscraper in /Users/sufyan/opt/anaconda3/envs/rag/lib/python3.10/site-packages (0.3.17)\n",
            "Requirement already satisfied: requests>=2.28 in /Users/sufyan/opt/anaconda3/envs/rag/lib/python3.10/site-packages (from ntscraper) (2.32.3)\n",
            "Requirement already satisfied: beautifulsoup4>=4.11 in /Users/sufyan/opt/anaconda3/envs/rag/lib/python3.10/site-packages (from ntscraper) (4.12.3)\n",
            "Requirement already satisfied: lxml>=4.9 in /Users/sufyan/opt/anaconda3/envs/rag/lib/python3.10/site-packages (from ntscraper) (5.3.0)\n",
            "Requirement already satisfied: tqdm>=4.66 in /Users/sufyan/opt/anaconda3/envs/rag/lib/python3.10/site-packages (from ntscraper) (4.66.5)\n",
            "Requirement already satisfied: soupsieve>1.2 in /Users/sufyan/opt/anaconda3/envs/rag/lib/python3.10/site-packages (from beautifulsoup4>=4.11->ntscraper) (2.6)\n",
            "Requirement already satisfied: charset-normalizer<4,>=2 in /Users/sufyan/opt/anaconda3/envs/rag/lib/python3.10/site-packages (from requests>=2.28->ntscraper) (3.3.2)\n",
            "Requirement already satisfied: idna<4,>=2.5 in /Users/sufyan/opt/anaconda3/envs/rag/lib/python3.10/site-packages (from requests>=2.28->ntscraper) (3.8)\n",
            "Requirement already satisfied: urllib3<3,>=1.21.1 in /Users/sufyan/opt/anaconda3/envs/rag/lib/python3.10/site-packages (from requests>=2.28->ntscraper) (2.2.2)\n",
            "Requirement already satisfied: certifi>=2017.4.17 in /Users/sufyan/opt/anaconda3/envs/rag/lib/python3.10/site-packages (from requests>=2.28->ntscraper) (2024.7.4)\n",
            "Note: you may need to restart the kernel to use updated packages.\n"
          ]
        }
      ],
      "source": [
        "pip install ntscraper"
      ]
    },
    {
      "cell_type": "code",
      "execution_count": 106,
      "metadata": {},
      "outputs": [
        {
          "name": "stdout",
          "output_type": "stream",
          "text": [
            "Requirement already satisfied: firebase-admin in /Users/sufyan/opt/anaconda3/envs/rag/lib/python3.10/site-packages (6.5.0)\n",
            "Requirement already satisfied: cachecontrol>=0.12.6 in /Users/sufyan/opt/anaconda3/envs/rag/lib/python3.10/site-packages (from firebase-admin) (0.14.0)\n",
            "Requirement already satisfied: google-api-python-client>=1.7.8 in /Users/sufyan/opt/anaconda3/envs/rag/lib/python3.10/site-packages (from firebase-admin) (2.146.0)\n",
            "Requirement already satisfied: google-cloud-storage>=1.37.1 in /Users/sufyan/opt/anaconda3/envs/rag/lib/python3.10/site-packages (from firebase-admin) (2.18.2)\n",
            "Requirement already satisfied: pyjwt>=2.5.0 in /Users/sufyan/opt/anaconda3/envs/rag/lib/python3.10/site-packages (from pyjwt[crypto]>=2.5.0->firebase-admin) (2.9.0)\n",
            "Requirement already satisfied: google-api-core<3.0.0dev,>=1.22.1 in /Users/sufyan/opt/anaconda3/envs/rag/lib/python3.10/site-packages (from google-api-core[grpc]<3.0.0dev,>=1.22.1; platform_python_implementation != \"PyPy\"->firebase-admin) (2.20.0)\n",
            "Requirement already satisfied: google-cloud-firestore>=2.9.1 in /Users/sufyan/opt/anaconda3/envs/rag/lib/python3.10/site-packages (from firebase-admin) (2.18.0)\n",
            "Requirement already satisfied: requests>=2.16.0 in /Users/sufyan/opt/anaconda3/envs/rag/lib/python3.10/site-packages (from cachecontrol>=0.12.6->firebase-admin) (2.32.3)\n",
            "Requirement already satisfied: msgpack<2.0.0,>=0.5.2 in /Users/sufyan/opt/anaconda3/envs/rag/lib/python3.10/site-packages (from cachecontrol>=0.12.6->firebase-admin) (1.1.0)\n",
            "Requirement already satisfied: googleapis-common-protos<2.0.dev0,>=1.56.2 in /Users/sufyan/opt/anaconda3/envs/rag/lib/python3.10/site-packages (from google-api-core<3.0.0dev,>=1.22.1->google-api-core[grpc]<3.0.0dev,>=1.22.1; platform_python_implementation != \"PyPy\"->firebase-admin) (1.63.2)\n",
            "Requirement already satisfied: protobuf!=3.20.0,!=3.20.1,!=4.21.0,!=4.21.1,!=4.21.2,!=4.21.3,!=4.21.4,!=4.21.5,<6.0.0.dev0,>=3.19.5 in /Users/sufyan/opt/anaconda3/envs/rag/lib/python3.10/site-packages (from google-api-core<3.0.0dev,>=1.22.1->google-api-core[grpc]<3.0.0dev,>=1.22.1; platform_python_implementation != \"PyPy\"->firebase-admin) (5.28.2)\n",
            "Requirement already satisfied: proto-plus<2.0.0dev,>=1.22.3 in /Users/sufyan/opt/anaconda3/envs/rag/lib/python3.10/site-packages (from google-api-core<3.0.0dev,>=1.22.1->google-api-core[grpc]<3.0.0dev,>=1.22.1; platform_python_implementation != \"PyPy\"->firebase-admin) (1.24.0)\n",
            "Requirement already satisfied: google-auth<3.0.dev0,>=2.14.1 in /Users/sufyan/opt/anaconda3/envs/rag/lib/python3.10/site-packages (from google-api-core<3.0.0dev,>=1.22.1->google-api-core[grpc]<3.0.0dev,>=1.22.1; platform_python_implementation != \"PyPy\"->firebase-admin) (2.35.0)\n",
            "Requirement already satisfied: grpcio<2.0dev,>=1.33.2 in /Users/sufyan/opt/anaconda3/envs/rag/lib/python3.10/site-packages (from google-api-core[grpc]<3.0.0dev,>=1.22.1; platform_python_implementation != \"PyPy\"->firebase-admin) (1.66.1)\n",
            "Requirement already satisfied: grpcio-status<2.0.dev0,>=1.33.2 in /Users/sufyan/opt/anaconda3/envs/rag/lib/python3.10/site-packages (from google-api-core[grpc]<3.0.0dev,>=1.22.1; platform_python_implementation != \"PyPy\"->firebase-admin) (1.66.1)\n",
            "Requirement already satisfied: httplib2<1.dev0,>=0.19.0 in /Users/sufyan/opt/anaconda3/envs/rag/lib/python3.10/site-packages (from google-api-python-client>=1.7.8->firebase-admin) (0.22.0)\n",
            "Requirement already satisfied: google-auth-httplib2<1.0.0,>=0.2.0 in /Users/sufyan/opt/anaconda3/envs/rag/lib/python3.10/site-packages (from google-api-python-client>=1.7.8->firebase-admin) (0.2.0)\n",
            "Requirement already satisfied: uritemplate<5,>=3.0.1 in /Users/sufyan/opt/anaconda3/envs/rag/lib/python3.10/site-packages (from google-api-python-client>=1.7.8->firebase-admin) (4.1.1)\n",
            "Requirement already satisfied: google-cloud-core<3.0.0dev,>=1.4.1 in /Users/sufyan/opt/anaconda3/envs/rag/lib/python3.10/site-packages (from google-cloud-firestore>=2.9.1->firebase-admin) (2.4.1)\n",
            "Requirement already satisfied: google-resumable-media>=2.7.2 in /Users/sufyan/opt/anaconda3/envs/rag/lib/python3.10/site-packages (from google-cloud-storage>=1.37.1->firebase-admin) (2.7.2)\n",
            "Requirement already satisfied: google-crc32c<2.0dev,>=1.0 in /Users/sufyan/opt/anaconda3/envs/rag/lib/python3.10/site-packages (from google-cloud-storage>=1.37.1->firebase-admin) (1.6.0)\n",
            "Requirement already satisfied: cryptography>=3.4.0 in /Users/sufyan/opt/anaconda3/envs/rag/lib/python3.10/site-packages (from pyjwt[crypto]>=2.5.0->firebase-admin) (43.0.1)\n",
            "Requirement already satisfied: cffi>=1.12 in /Users/sufyan/opt/anaconda3/envs/rag/lib/python3.10/site-packages (from cryptography>=3.4.0->pyjwt[crypto]>=2.5.0->firebase-admin) (1.17.1)\n",
            "Requirement already satisfied: cachetools<6.0,>=2.0.0 in /Users/sufyan/opt/anaconda3/envs/rag/lib/python3.10/site-packages (from google-auth<3.0.dev0,>=2.14.1->google-api-core<3.0.0dev,>=1.22.1->google-api-core[grpc]<3.0.0dev,>=1.22.1; platform_python_implementation != \"PyPy\"->firebase-admin) (5.5.0)\n",
            "Requirement already satisfied: pyasn1-modules>=0.2.1 in /Users/sufyan/opt/anaconda3/envs/rag/lib/python3.10/site-packages (from google-auth<3.0.dev0,>=2.14.1->google-api-core<3.0.0dev,>=1.22.1->google-api-core[grpc]<3.0.0dev,>=1.22.1; platform_python_implementation != \"PyPy\"->firebase-admin) (0.4.1)\n",
            "Requirement already satisfied: rsa<5,>=3.1.4 in /Users/sufyan/opt/anaconda3/envs/rag/lib/python3.10/site-packages (from google-auth<3.0.dev0,>=2.14.1->google-api-core<3.0.0dev,>=1.22.1->google-api-core[grpc]<3.0.0dev,>=1.22.1; platform_python_implementation != \"PyPy\"->firebase-admin) (4.9)\n",
            "Requirement already satisfied: pyparsing!=3.0.0,!=3.0.1,!=3.0.2,!=3.0.3,<4,>=2.4.2 in /Users/sufyan/opt/anaconda3/envs/rag/lib/python3.10/site-packages (from httplib2<1.dev0,>=0.19.0->google-api-python-client>=1.7.8->firebase-admin) (3.1.4)\n",
            "Requirement already satisfied: charset-normalizer<4,>=2 in /Users/sufyan/opt/anaconda3/envs/rag/lib/python3.10/site-packages (from requests>=2.16.0->cachecontrol>=0.12.6->firebase-admin) (3.3.2)\n",
            "Requirement already satisfied: idna<4,>=2.5 in /Users/sufyan/opt/anaconda3/envs/rag/lib/python3.10/site-packages (from requests>=2.16.0->cachecontrol>=0.12.6->firebase-admin) (3.8)\n",
            "Requirement already satisfied: urllib3<3,>=1.21.1 in /Users/sufyan/opt/anaconda3/envs/rag/lib/python3.10/site-packages (from requests>=2.16.0->cachecontrol>=0.12.6->firebase-admin) (2.2.2)\n",
            "Requirement already satisfied: certifi>=2017.4.17 in /Users/sufyan/opt/anaconda3/envs/rag/lib/python3.10/site-packages (from requests>=2.16.0->cachecontrol>=0.12.6->firebase-admin) (2024.7.4)\n",
            "Requirement already satisfied: pycparser in /Users/sufyan/opt/anaconda3/envs/rag/lib/python3.10/site-packages (from cffi>=1.12->cryptography>=3.4.0->pyjwt[crypto]>=2.5.0->firebase-admin) (2.22)\n",
            "Requirement already satisfied: pyasn1<0.7.0,>=0.4.6 in /Users/sufyan/opt/anaconda3/envs/rag/lib/python3.10/site-packages (from pyasn1-modules>=0.2.1->google-auth<3.0.dev0,>=2.14.1->google-api-core<3.0.0dev,>=1.22.1->google-api-core[grpc]<3.0.0dev,>=1.22.1; platform_python_implementation != \"PyPy\"->firebase-admin) (0.6.1)\n"
          ]
        }
      ],
      "source": [
        "!pip install firebase-admin\n"
      ]
    },
    {
      "cell_type": "code",
      "execution_count": 107,
      "metadata": {},
      "outputs": [
        {
          "name": "stdout",
          "output_type": "stream",
          "text": [
            "Requirement already satisfied: beautifulsoup4 in /Users/sufyan/opt/anaconda3/envs/rag/lib/python3.10/site-packages (4.12.3)\n",
            "Requirement already satisfied: soupsieve>1.2 in /Users/sufyan/opt/anaconda3/envs/rag/lib/python3.10/site-packages (from beautifulsoup4) (2.6)\n",
            "Note: you may need to restart the kernel to use updated packages.\n"
          ]
        }
      ],
      "source": [
        "pip install beautifulsoup4"
      ]
    },
    {
      "cell_type": "code",
      "execution_count": 108,
      "metadata": {},
      "outputs": [],
      "source": [
        "import requests\n",
        "import pandas as pd\n",
        "from dotenv import load_dotenv\n",
        "load_dotenv()\n",
        "import os\n",
        "import json\n",
        "import firebase_admin\n",
        "from firebase_admin import credentials, firestore, db\n",
        "from bs4 import BeautifulSoup\n",
        "from ntscraper import Nitter"
      ]
    },
    {
      "cell_type": "code",
      "execution_count": 109,
      "metadata": {},
      "outputs": [],
      "source": [
        "service_account_path = os.getenv('FIREBASE_SERVICE_ACCOUNT_KEY')"
      ]
    },
    {
      "cell_type": "code",
      "execution_count": 110,
      "metadata": {},
      "outputs": [],
      "source": [
        "if not firebase_admin._apps:\n",
        "    cred = credentials.Certificate(service_account_path)\n",
        "    firebase_admin.initialize_app(cred)"
      ]
    },
    {
      "cell_type": "code",
      "execution_count": 111,
      "metadata": {},
      "outputs": [],
      "source": [
        "db = firestore.client()"
      ]
    },
    {
      "cell_type": "code",
      "execution_count": 112,
      "metadata": {},
      "outputs": [
        {
          "name": "stderr",
          "output_type": "stream",
          "text": [
            "Testing instances: 100%|██████████| 16/16 [00:19<00:00,  1.24s/it]\n"
          ]
        }
      ],
      "source": [
        "scraper = Nitter()\n",
        "scraper.working_instances = ['https://nitter.net']"
      ]
    },
    {
      "cell_type": "code",
      "execution_count": 113,
      "metadata": {},
      "outputs": [],
      "source": [
        "def getTweets(name, modes, num):\n",
        "    total = scraper.get_tweets(name, mode=modes, number=num)\n",
        "    print(total)\n",
        "    \n",
        "    final_tweets = []\n",
        "    if 'tweets' in total:\n",
        "        for tweet in total['tweets']:  # Adjust the key to match actual data\n",
        "            data = [tweet['link'], tweet['text'], tweet['date']]\n",
        "            final_tweets.append(data)\n",
        "        data = pd.DataFrame(final_tweets, columns=['link', 'text', 'date'])\n",
        "        return data\n",
        "    else:\n",
        "        print(\"Key 'tweets' not found in response\")\n",
        "        return None"
      ]
    },
    {
      "cell_type": "code",
      "execution_count": 127,
      "metadata": {},
      "outputs": [
        {
          "name": "stdout",
          "output_type": "stream",
          "text": [
            "22-Sep-24 15:41:24 - No instance specified, using random instance https://nitter.lucabased.xyz\n",
            "22-Sep-24 15:41:25 - Fetching error: Instance has been rate limited.Use another instance or try again later.\n",
            "{'tweets': [], 'threads': []}\n",
            "Empty DataFrame\n",
            "Columns: [link, text, date]\n",
            "Index: []\n"
          ]
        }
      ],
      "source": [
        "data = getTweets('mpox', 'term', 25)\n",
        "print(data)"
      ]
    },
    {
      "cell_type": "code",
      "execution_count": 115,
      "metadata": {},
      "outputs": [],
      "source": [
        "# Function to read existing JSON data (if any)\n",
        "def read_existing_json(file_path):\n",
        "    if os.path.exists(file_path):\n",
        "        with open(file_path, 'r') as file:\n",
        "            try:\n",
        "                data = json.load(file)\n",
        "                return data\n",
        "            except json.JSONDecodeError:\n",
        "                return {}\n",
        "    else:\n",
        "        return {}\n",
        "\n",
        "# Function to append data to JSON without duplicates\n",
        "def append_to_json(new_data, file_path):\n",
        "    existing_data = read_existing_json(file_path)\n",
        "    \n",
        "    # Create a set of existing tweet links (to identify duplicates)\n",
        "    existing_links = {tweet['link'] for tweet in existing_data.values()}\n",
        "    \n",
        "    # Append only new tweets (those not already in the existing JSON file)\n",
        "    for i, tweet in enumerate(new_data):\n",
        "        if tweet['link'] not in existing_links:\n",
        "            existing_data[str(len(existing_data))] = tweet  # Use str(len) as the new index for appending\n",
        "    \n",
        "    # Write the updated data back to the JSON file\n",
        "    with open(file_path, 'w') as file:\n",
        "        json.dump(existing_data, file, indent=4)\n",
        "    \n",
        "    print(\"Data appended to JSON file successfully!\")"
      ]
    },
    {
      "cell_type": "code",
      "execution_count": 128,
      "metadata": {},
      "outputs": [
        {
          "name": "stdout",
          "output_type": "stream",
          "text": [
            "Data appended to JSON file successfully!\n"
          ]
        },
        {
          "data": {
            "text/plain": [
              "[]"
            ]
          },
          "execution_count": 128,
          "metadata": {},
          "output_type": "execute_result"
        }
      ],
      "source": [
        "df = pd.DataFrame(data[['link', 'date', 'text']])\n",
        "tweets_dict = df.to_dict(orient='records')\n",
        "append_to_json(tweets_dict, 'tweets_filtered.json')\n",
        "tweets_dict"
      ]
    },
    {
      "cell_type": "code",
      "execution_count": 123,
      "metadata": {},
      "outputs": [],
      "source": [
        "def upload_to_firebase(data):\n",
        "    collection_ref = db.collection('tweets')\n",
        "\n",
        "    #records = data.to_dict(orient='records')\n",
        "    \n",
        "    for tweet in data:\n",
        "        tweet_link = tweet[\"link\"]\n",
        "        existing_tweets = collection_ref.where('link', '==', tweet_link).stream()\n",
        "        if not any(existing_tweets):\n",
        "            doc_ref = collection_ref.document() \n",
        "            doc_ref.set(tweet)\n",
        "            print(f\"Uploaded tweet with ID {tweet_link}\")\n",
        "        else:\n",
        "            print(f\"Duplicate tweet with ID {tweet_link} skipped.\")\n",
        "    print(\"Data uploaded to Firebase successfully!\")"
      ]
    },
    {
      "cell_type": "code",
      "execution_count": 125,
      "metadata": {},
      "outputs": [
        {
          "name": "stdout",
          "output_type": "stream",
          "text": [
            "Uploaded tweet with ID https://twitter.com/david_r_morgan/status/1837685111317270605#m\n",
            "Uploaded tweet with ID https://twitter.com/Globalbiosec/status/1837942883493859510#m\n",
            "Uploaded tweet with ID https://twitter.com/toobaffled/status/1837660701084864897#m\n",
            "Uploaded tweet with ID https://twitter.com/rtncofficielle1/status/1837611704714240495#m\n",
            "Uploaded tweet with ID https://twitter.com/newstart_2024/status/1837845241518227963#m\n",
            "Uploaded tweet with ID https://twitter.com/apostolo21/status/1837891275984396693#m\n",
            "Uploaded tweet with ID https://twitter.com/Attwhoredasilva/status/1837872291083849826#m\n",
            "Uploaded tweet with ID https://twitter.com/EliseAndre43768/status/1837951409167257898#m\n",
            "Uploaded tweet with ID https://twitter.com/orangotango6942/status/1837951366930878507#m\n",
            "Uploaded tweet with ID https://twitter.com/YisusBell/status/1837950987018846615#m\n",
            "Uploaded tweet with ID https://twitter.com/eftwyrd/status/1837950697742258572#m\n",
            "Uploaded tweet with ID https://twitter.com/DerAchsenZeit/status/1837950696210981217#m\n",
            "Uploaded tweet with ID https://twitter.com/konduksuri/status/1837950681992647085#m\n",
            "Uploaded tweet with ID https://twitter.com/UNGeneva/status/1837363636076998881#m\n",
            "Uploaded tweet with ID https://twitter.com/EmekaGift100/status/1837839066731065628#m\n",
            "Uploaded tweet with ID https://twitter.com/Stysz/status/1837949811649077301#m\n",
            "Uploaded tweet with ID https://twitter.com/LastHawk33/status/1837936543060664650#m\n",
            "Uploaded tweet with ID https://twitter.com/anti_gyro_/status/1837949420920623327#m\n",
            "Uploaded tweet with ID https://twitter.com/rtncofficielle1/status/1837864003650846909#m\n",
            "Uploaded tweet with ID https://twitter.com/sonia_elijah/status/1837919868248846551#m\n",
            "Uploaded tweet with ID https://twitter.com/s0j0hn/status/1837948000645071074#m\n",
            "Uploaded tweet with ID https://twitter.com/wallahtument/status/1837947984895705431#m\n",
            "Uploaded tweet with ID https://twitter.com/Krcs_NRbBranch/status/1837894810427965498#m\n",
            "Uploaded tweet with ID https://twitter.com/Euractiv/status/1837168735758733604#m\n",
            "Uploaded tweet with ID https://twitter.com/WarHorizon/status/1837684372167692412#m\n",
            "Data uploaded to Firebase successfully!\n"
          ]
        }
      ],
      "source": [
        "upload_to_firebase(tweets_dict)"
      ]
    }
  ],
  "metadata": {
    "kernelspec": {
      "display_name": "Python 3",
      "language": "python",
      "name": "python3"
    },
    "language_info": {
      "codemirror_mode": {
        "name": "ipython",
        "version": 3
      },
      "file_extension": ".py",
      "mimetype": "text/x-python",
      "name": "python",
      "nbconvert_exporter": "python",
      "pygments_lexer": "ipython3",
      "version": "3.10.4"
    }
  },
  "nbformat": 4,
  "nbformat_minor": 2
}
