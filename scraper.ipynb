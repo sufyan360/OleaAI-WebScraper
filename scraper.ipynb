{
  "cells": [
    {
      "cell_type": "code",
      "execution_count": null,
      "metadata": {},
      "outputs": [],
      "source": [
        "!pip install pandas requests"
      ]
    },
    {
      "cell_type": "code",
      "execution_count": null,
      "metadata": {},
      "outputs": [],
      "source": [
        "pip install ntscraper"
      ]
    },
    {
      "cell_type": "code",
      "execution_count": null,
      "metadata": {},
      "outputs": [],
      "source": [
        "!pip install firebase-admin\n"
      ]
    },
    {
      "cell_type": "code",
      "execution_count": null,
      "metadata": {},
      "outputs": [],
      "source": [
        "pip install beautifulsoup4"
      ]
    },
    {
      "cell_type": "code",
      "execution_count": 172,
      "metadata": {},
      "outputs": [],
      "source": [
        "import requests\n",
        "import pandas as pd\n",
        "from dotenv import load_dotenv\n",
        "load_dotenv()\n",
        "import os\n",
        "import json\n",
        "import firebase_admin\n",
        "from firebase_admin import credentials, firestore, db\n",
        "from bs4 import BeautifulSoup\n",
        "from ntscraper import Nitter"
      ]
    },
    {
      "cell_type": "code",
      "execution_count": 173,
      "metadata": {},
      "outputs": [],
      "source": [
        "service_account_path = os.getenv('FIREBASE_SERVICE_ACCOUNT_KEY')"
      ]
    },
    {
      "cell_type": "code",
      "execution_count": 174,
      "metadata": {},
      "outputs": [],
      "source": [
        "if not firebase_admin._apps:\n",
        "    cred = credentials.Certificate(service_account_path)\n",
        "    firebase_admin.initialize_app(cred)"
      ]
    },
    {
      "cell_type": "code",
      "execution_count": 175,
      "metadata": {},
      "outputs": [],
      "source": [
        "db = firestore.client()"
      ]
    },
    {
      "cell_type": "code",
      "execution_count": null,
      "metadata": {},
      "outputs": [],
      "source": [
        "scraper = Nitter()\n",
        "scraper.working_instances = ['https://nitter.net']"
      ]
    },
    {
      "cell_type": "code",
      "execution_count": 177,
      "metadata": {},
      "outputs": [],
      "source": [
        "def getTweets(name, modes, num):\n",
        "    total = scraper.get_tweets(name, mode=modes, number=num)\n",
        "    print(total)\n",
        "    \n",
        "    final_tweets = []\n",
        "    if 'tweets' in total:\n",
        "        for tweet in total['tweets']:  # Adjust the key to match actual data\n",
        "            data = [tweet['link'], tweet['text'], tweet['date']]\n",
        "            final_tweets.append(data)\n",
        "        data = pd.DataFrame(final_tweets, columns=['link', 'text', 'date'])\n",
        "        return data\n",
        "    else:\n",
        "        print(\"Key 'tweets' not found in response\")\n",
        "        return None"
      ]
    },
    {
      "cell_type": "code",
      "execution_count": null,
      "metadata": {},
      "outputs": [],
      "source": [
        "data = getTweets('mpox', 'term', 25)\n",
        "print(data)"
      ]
    },
    {
      "cell_type": "code",
      "execution_count": 115,
      "metadata": {},
      "outputs": [],
      "source": [
        "# Function to read existing JSON data (if any)\n",
        "def read_existing_json(file_path):\n",
        "    if os.path.exists(file_path):\n",
        "        with open(file_path, 'r') as file:\n",
        "            try:\n",
        "                data = json.load(file)\n",
        "                return data\n",
        "            except json.JSONDecodeError:\n",
        "                return {}\n",
        "    else:\n",
        "        return {}\n",
        "\n",
        "# Function to append data to JSON without duplicates\n",
        "def append_to_json(new_data, file_path):\n",
        "    existing_data = read_existing_json(file_path)\n",
        "    \n",
        "    # Create a set of existing tweet links (to identify duplicates)\n",
        "    existing_links = {tweet['link'] for tweet in existing_data.values()}\n",
        "    \n",
        "    # Append only new tweets (those not already in the existing JSON file)\n",
        "    for i, tweet in enumerate(new_data):\n",
        "        if tweet['link'] not in existing_links:\n",
        "            existing_data[str(len(existing_data))] = tweet  # Use str(len) as the new index for appending\n",
        "    \n",
        "    # Write the updated data back to the JSON file\n",
        "    with open(file_path, 'w') as file:\n",
        "        json.dump(existing_data, file, indent=4)\n",
        "    \n",
        "    print(\"Data appended to JSON file successfully!\")"
      ]
    },
    {
      "cell_type": "code",
      "execution_count": null,
      "metadata": {},
      "outputs": [],
      "source": [
        "df = pd.DataFrame(data[['link', 'date', 'text']])\n",
        "tweets_dict = df.to_dict(orient='records')\n",
        "append_to_json(tweets_dict, 'tweets_filtered.json')\n",
        "tweets_dict"
      ]
    },
    {
      "cell_type": "code",
      "execution_count": 123,
      "metadata": {},
      "outputs": [],
      "source": [
        "def upload_to_firebase(data):\n",
        "    collection_ref = db.collection('tweets')\n",
        "\n",
        "    #records = data.to_dict(orient='records')\n",
        "    \n",
        "    for tweet in data:\n",
        "        tweet_link = tweet[\"link\"]\n",
        "        existing_tweets = collection_ref.where('link', '==', tweet_link).stream()\n",
        "        if not any(existing_tweets):\n",
        "            doc_ref = collection_ref.document() \n",
        "            doc_ref.set(tweet)\n",
        "            print(f\"Uploaded tweet with ID {tweet_link}\")\n",
        "        else:\n",
        "            print(f\"Duplicate tweet with ID {tweet_link} skipped.\")\n",
        "    print(\"Data uploaded to Firebase successfully!\")"
      ]
    },
    {
      "cell_type": "code",
      "execution_count": null,
      "metadata": {},
      "outputs": [],
      "source": [
        "upload_to_firebase(tweets_dict)"
      ]
    }
  ],
  "metadata": {
    "kernelspec": {
      "display_name": "Python 3",
      "language": "python",
      "name": "python3"
    },
    "language_info": {
      "codemirror_mode": {
        "name": "ipython",
        "version": 3
      },
      "file_extension": ".py",
      "mimetype": "text/x-python",
      "name": "python",
      "nbconvert_exporter": "python",
      "pygments_lexer": "ipython3",
      "version": "3.10.4"
    }
  },
  "nbformat": 4,
  "nbformat_minor": 2
}
