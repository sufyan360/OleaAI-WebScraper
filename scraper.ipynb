{
  "cells": [
    {
      "cell_type": "code",
      "execution_count": 42,
      "metadata": {},
      "outputs": [
        {
          "name": "stdout",
          "output_type": "stream",
          "text": [
            "Requirement already satisfied: pandas in /Users/sufyan/opt/anaconda3/envs/rag/lib/python3.10/site-packages (2.2.2)\n",
            "Requirement already satisfied: requests in /Users/sufyan/opt/anaconda3/envs/rag/lib/python3.10/site-packages (2.32.3)\n",
            "Requirement already satisfied: numpy>=1.22.4 in /Users/sufyan/opt/anaconda3/envs/rag/lib/python3.10/site-packages (from pandas) (2.1.0)\n",
            "Requirement already satisfied: python-dateutil>=2.8.2 in /Users/sufyan/opt/anaconda3/envs/rag/lib/python3.10/site-packages (from pandas) (2.9.0)\n",
            "Requirement already satisfied: pytz>=2020.1 in /Users/sufyan/opt/anaconda3/envs/rag/lib/python3.10/site-packages (from pandas) (2024.2)\n",
            "Requirement already satisfied: tzdata>=2022.7 in /Users/sufyan/opt/anaconda3/envs/rag/lib/python3.10/site-packages (from pandas) (2024.1)\n",
            "Requirement already satisfied: charset-normalizer<4,>=2 in /Users/sufyan/opt/anaconda3/envs/rag/lib/python3.10/site-packages (from requests) (3.3.2)\n",
            "Requirement already satisfied: idna<4,>=2.5 in /Users/sufyan/opt/anaconda3/envs/rag/lib/python3.10/site-packages (from requests) (3.8)\n",
            "Requirement already satisfied: urllib3<3,>=1.21.1 in /Users/sufyan/opt/anaconda3/envs/rag/lib/python3.10/site-packages (from requests) (2.2.2)\n",
            "Requirement already satisfied: certifi>=2017.4.17 in /Users/sufyan/opt/anaconda3/envs/rag/lib/python3.10/site-packages (from requests) (2024.7.4)\n",
            "Requirement already satisfied: six>=1.5 in /Users/sufyan/opt/anaconda3/envs/rag/lib/python3.10/site-packages (from python-dateutil>=2.8.2->pandas) (1.16.0)\n"
          ]
        }
      ],
      "source": [
        "!pip install pandas requests"
      ]
    },
    {
      "cell_type": "code",
      "execution_count": 43,
      "metadata": {},
      "outputs": [
        {
          "name": "stdout",
          "output_type": "stream",
          "text": [
            "Requirement already satisfied: ntscraper in /Users/sufyan/opt/anaconda3/envs/rag/lib/python3.10/site-packages (0.3.17)\n",
            "Requirement already satisfied: requests>=2.28 in /Users/sufyan/opt/anaconda3/envs/rag/lib/python3.10/site-packages (from ntscraper) (2.32.3)\n",
            "Requirement already satisfied: beautifulsoup4>=4.11 in /Users/sufyan/opt/anaconda3/envs/rag/lib/python3.10/site-packages (from ntscraper) (4.12.3)\n",
            "Requirement already satisfied: lxml>=4.9 in /Users/sufyan/opt/anaconda3/envs/rag/lib/python3.10/site-packages (from ntscraper) (5.3.0)\n",
            "Requirement already satisfied: tqdm>=4.66 in /Users/sufyan/opt/anaconda3/envs/rag/lib/python3.10/site-packages (from ntscraper) (4.66.5)\n",
            "Requirement already satisfied: soupsieve>1.2 in /Users/sufyan/opt/anaconda3/envs/rag/lib/python3.10/site-packages (from beautifulsoup4>=4.11->ntscraper) (2.6)\n",
            "Requirement already satisfied: charset-normalizer<4,>=2 in /Users/sufyan/opt/anaconda3/envs/rag/lib/python3.10/site-packages (from requests>=2.28->ntscraper) (3.3.2)\n",
            "Requirement already satisfied: idna<4,>=2.5 in /Users/sufyan/opt/anaconda3/envs/rag/lib/python3.10/site-packages (from requests>=2.28->ntscraper) (3.8)\n",
            "Requirement already satisfied: urllib3<3,>=1.21.1 in /Users/sufyan/opt/anaconda3/envs/rag/lib/python3.10/site-packages (from requests>=2.28->ntscraper) (2.2.2)\n",
            "Requirement already satisfied: certifi>=2017.4.17 in /Users/sufyan/opt/anaconda3/envs/rag/lib/python3.10/site-packages (from requests>=2.28->ntscraper) (2024.7.4)\n",
            "Note: you may need to restart the kernel to use updated packages.\n"
          ]
        }
      ],
      "source": [
        "pip install ntscraper"
      ]
    },
    {
      "cell_type": "code",
      "execution_count": 44,
      "metadata": {},
      "outputs": [
        {
          "name": "stdout",
          "output_type": "stream",
          "text": [
            "Requirement already satisfied: beautifulsoup4 in /Users/sufyan/opt/anaconda3/envs/rag/lib/python3.10/site-packages (4.12.3)\n",
            "Requirement already satisfied: soupsieve>1.2 in /Users/sufyan/opt/anaconda3/envs/rag/lib/python3.10/site-packages (from beautifulsoup4) (2.6)\n",
            "Note: you may need to restart the kernel to use updated packages.\n"
          ]
        }
      ],
      "source": [
        "pip install beautifulsoup4"
      ]
    },
    {
      "cell_type": "code",
      "execution_count": 45,
      "metadata": {},
      "outputs": [],
      "source": [
        "import requests\n",
        "import pandas as pd\n",
        "from dotenv import load_dotenv\n",
        "load_dotenv()\n",
        "import os\n",
        "import json\n",
        "import firebase_admin\n",
        "from firebase_admin import credentials, firestore, db\n",
        "from bs4 import BeautifulSoup\n",
        "from ntscraper import Nitter"
      ]
    },
    {
      "cell_type": "code",
      "execution_count": 46,
      "metadata": {},
      "outputs": [],
      "source": [
        "service_account_path = os.getenv('FIREBASE_SERVICE_ACCOUNT_KEY')"
      ]
    },
    {
      "cell_type": "code",
      "execution_count": 47,
      "metadata": {},
      "outputs": [],
      "source": [
        "if not firebase_admin._apps:\n",
        "    cred = credentials.Certificate(service_account_path)\n",
        "    firebase_admin.initialize_app(cred)"
      ]
    },
    {
      "cell_type": "code",
      "execution_count": 48,
      "metadata": {},
      "outputs": [],
      "source": [
        "db = firestore.client()"
      ]
    },
    {
      "cell_type": "code",
      "execution_count": 53,
      "metadata": {},
      "outputs": [
        {
          "name": "stderr",
          "output_type": "stream",
          "text": [
            "Testing instances: 100%|██████████| 1/1 [00:04<00:00,  4.54s/it]\n"
          ]
        }
      ],
      "source": []
    },
    {
      "cell_type": "code",
      "execution_count": 61,
      "metadata": {},
      "outputs": [],
      "source": [
        "def getTweets(name, modes, num):\n",
        "    scraper = Nitter()\n",
        "    scraper.working_instances = ['https://nitter.net']\n",
        "    total = scraper.get_tweets(name, mode=modes, number=num)\n",
        "    \n",
        "    final_tweets = []\n",
        "    if 'tweets' in total:\n",
        "        for tweet in total['tweets']:  # Adjust the key to match actual data\n",
        "            data = [tweet['link'], tweet['text'], tweet['date']]\n",
        "            final_tweets.append(data)\n",
        "        data = pd.DataFrame(final_tweets, columns=['link', 'text', 'date'])\n",
        "        return data\n",
        "    else:\n",
        "        print(\"Key 'tweets' not found in response\")\n",
        "        return None"
      ]
    },
    {
      "cell_type": "code",
      "execution_count": 62,
      "metadata": {},
      "outputs": [
        {
          "name": "stderr",
          "output_type": "stream",
          "text": [
            "Testing instances: 100%|██████████| 16/16 [00:08<00:00,  1.80it/s]"
          ]
        },
        {
          "name": "stdout",
          "output_type": "stream",
          "text": [
            "21-Sep-24 16:33:18 - No instance specified, using random instance https://nitter.net\n"
          ]
        },
        {
          "name": "stderr",
          "output_type": "stream",
          "text": [
            "\n"
          ]
        },
        {
          "name": "stdout",
          "output_type": "stream",
          "text": [
            "21-Sep-24 16:33:23 - https://nitter.net unreachable. Trying https://nitter.net\n",
            "21-Sep-24 16:33:34 - https://nitter.net unreachable. Trying https://nitter.net\n",
            "High number of retries detected. Testing all instances...\n"
          ]
        },
        {
          "name": "stderr",
          "output_type": "stream",
          "text": [
            "Testing instances: 100%|██████████| 16/16 [00:12<00:00,  1.24it/s]"
          ]
        },
        {
          "name": "stdout",
          "output_type": "stream",
          "text": [
            "New working instances: \n",
            "21-Sep-24 16:33:54 - All instances are unreachable. Check your request and try again.\n",
            "Empty DataFrame\n",
            "Columns: [link, text, date]\n",
            "Index: []\n"
          ]
        },
        {
          "name": "stderr",
          "output_type": "stream",
          "text": [
            "\n"
          ]
        }
      ],
      "source": [
        "data = getTweets('mpox', 'term', 25)\n",
        "print(data)"
      ]
    },
    {
      "cell_type": "code",
      "execution_count": 23,
      "metadata": {},
      "outputs": [
        {
          "data": {
            "text/html": [
              "<div>\n",
              "<style scoped>\n",
              "    .dataframe tbody tr th:only-of-type {\n",
              "        vertical-align: middle;\n",
              "    }\n",
              "\n",
              "    .dataframe tbody tr th {\n",
              "        vertical-align: top;\n",
              "    }\n",
              "\n",
              "    .dataframe thead th {\n",
              "        text-align: right;\n",
              "    }\n",
              "</style>\n",
              "<table border=\"1\" class=\"dataframe\">\n",
              "  <thead>\n",
              "    <tr style=\"text-align: right;\">\n",
              "      <th></th>\n",
              "      <th>link</th>\n",
              "      <th>date</th>\n",
              "      <th>text</th>\n",
              "    </tr>\n",
              "  </thead>\n",
              "  <tbody>\n",
              "    <tr>\n",
              "      <th>0</th>\n",
              "      <td>https://twitter.com/RaffaellaRegoli/status/183...</td>\n",
              "      <td>Sep 19, 2024 · 9:27 AM UTC</td>\n",
              "      <td>#Covid 🚨++ARRIVANO I NUOVI VACCINI PER IL COVI...</td>\n",
              "    </tr>\n",
              "    <tr>\n",
              "      <th>1</th>\n",
              "      <td>https://twitter.com/TonixPharma/status/1836838...</td>\n",
              "      <td>Sep 19, 2024 · 6:43 PM UTC</td>\n",
              "      <td>A major difference between the mpox outbreak s...</td>\n",
              "    </tr>\n",
              "    <tr>\n",
              "      <th>2</th>\n",
              "      <td>https://twitter.com/amerix/status/183666736473...</td>\n",
              "      <td>Sep 19, 2024 · 7:23 AM UTC</td>\n",
              "      <td>PARENTS,  Go find out if your children in scho...</td>\n",
              "    </tr>\n",
              "    <tr>\n",
              "      <th>3</th>\n",
              "      <td>https://twitter.com/TabascoHOY/status/18369144...</td>\n",
              "      <td>Sep 19, 2024 · 11:45 PM UTC</td>\n",
              "      <td>#México📍| ¿Vas a #Cancún? Q. Roo es el segundo...</td>\n",
              "    </tr>\n",
              "    <tr>\n",
              "      <th>4</th>\n",
              "      <td>https://twitter.com/CryptoPal4/status/18369163...</td>\n",
              "      <td>Sep 19, 2024 · 11:52 PM UTC</td>\n",
              "      <td>Lol if you think that’s what the project is ab...</td>\n",
              "    </tr>\n",
              "    <tr>\n",
              "      <th>5</th>\n",
              "      <td>https://twitter.com/ChikatsuHayashi/status/183...</td>\n",
              "      <td>Sep 19, 2024 · 1:29 PM UTC</td>\n",
              "      <td>★　FDAがシェディングの可能性を認める　★  FDAは、8月に承認したMpox(サル痘)ワ...</td>\n",
              "    </tr>\n",
              "    <tr>\n",
              "      <th>6</th>\n",
              "      <td>https://twitter.com/Monkeypoxtally/status/1836...</td>\n",
              "      <td>Sep 19, 2024 · 6:14 PM UTC</td>\n",
              "      <td>The number of mpox cases in Africa has surged ...</td>\n",
              "    </tr>\n",
              "    <tr>\n",
              "      <th>7</th>\n",
              "      <td>https://twitter.com/ken24918164/status/1836915...</td>\n",
              "      <td>Sep 19, 2024 · 11:50 PM UTC</td>\n",
              "      <td>速報 ! 米国 FDA 食品医薬品局は、エマージェントの MPOX「ワクチン」を使用して10...</td>\n",
              "    </tr>\n",
              "    <tr>\n",
              "      <th>8</th>\n",
              "      <td>https://twitter.com/heidijblake1/status/183691...</td>\n",
              "      <td>Sep 19, 2024 · 11:50 PM UTC</td>\n",
              "      <td>Hi Kap, I was just watching your video about m...</td>\n",
              "    </tr>\n",
              "    <tr>\n",
              "      <th>9</th>\n",
              "      <td>https://twitter.com/COVID19info101/status/1836...</td>\n",
              "      <td>Sep 19, 2024 · 11:50 PM UTC</td>\n",
              "      <td>The number of mpox cases in Africa has jumped ...</td>\n",
              "    </tr>\n",
              "    <tr>\n",
              "      <th>10</th>\n",
              "      <td>https://twitter.com/HausofHilton/status/183605...</td>\n",
              "      <td>Sep 17, 2024 · 2:45 PM UTC</td>\n",
              "      <td>Beza mpox dengan chicken pox   Untuk mpox, rua...</td>\n",
              "    </tr>\n",
              "    <tr>\n",
              "      <th>11</th>\n",
              "      <td>https://twitter.com/MarioNawfal/status/1836903...</td>\n",
              "      <td>Sep 19, 2024 · 10:59 PM UTC</td>\n",
              "      <td>🚨🇨🇩 DR CONGO LAUNCHES MPOX VACCINATION CAMPAIG...</td>\n",
              "    </tr>\n",
              "    <tr>\n",
              "      <th>12</th>\n",
              "      <td>https://twitter.com/AmeshAA/status/18369070569...</td>\n",
              "      <td>Sep 19, 2024 · 11:15 PM UTC</td>\n",
              "      <td>“Rwanda's mpox vaccine campaign began 2 days a...</td>\n",
              "    </tr>\n",
              "    <tr>\n",
              "      <th>13</th>\n",
              "      <td>https://twitter.com/DavidWolfe/status/18321679...</td>\n",
              "      <td>Sep 6, 2024 · 9:24 PM UTC</td>\n",
              "      <td>Adverse reactions for the newly approved ACAM2...</td>\n",
              "    </tr>\n",
              "    <tr>\n",
              "      <th>14</th>\n",
              "      <td>https://twitter.com/salacioussheets/status/183...</td>\n",
              "      <td>Sep 19, 2024 · 11:47 PM UTC</td>\n",
              "      <td>If you’re waiting on an email from me, expect ...</td>\n",
              "    </tr>\n",
              "    <tr>\n",
              "      <th>15</th>\n",
              "      <td>https://twitter.com/TheInsiderPaper/status/183...</td>\n",
              "      <td>Sep 19, 2024 · 2:46 PM UTC</td>\n",
              "      <td>BREAKING - Mpox vaccines administered in Rwand...</td>\n",
              "    </tr>\n",
              "    <tr>\n",
              "      <th>16</th>\n",
              "      <td>https://twitter.com/Reuters_Health/status/1836...</td>\n",
              "      <td>Sep 19, 2024 · 11:45 PM UTC</td>\n",
              "      <td>Bavarian Nordic said on Thursday its mpox vacc...</td>\n",
              "    </tr>\n",
              "    <tr>\n",
              "      <th>17</th>\n",
              "      <td>https://twitter.com/OnceNoticiasTV/status/1836...</td>\n",
              "      <td>Sep 19, 2024 · 11:45 PM UTC</td>\n",
              "      <td>Alrededor de 300 personas de Ruanda, en África...</td>\n",
              "    </tr>\n",
              "    <tr>\n",
              "      <th>18</th>\n",
              "      <td>https://twitter.com/FastNews77/status/18369142...</td>\n",
              "      <td>Sep 19, 2024 · 11:44 PM UTC</td>\n",
              "      <td>Africa CDC says mpox ‘not under control’ on co...</td>\n",
              "    </tr>\n",
              "    <tr>\n",
              "      <th>19</th>\n",
              "      <td>https://twitter.com/mthangadarwin4/status/1836...</td>\n",
              "      <td>Sep 19, 2024 · 11:43 PM UTC</td>\n",
              "      <td>Mpox (Monkeypox) - Definition, types, causes, ...</td>\n",
              "    </tr>\n",
              "    <tr>\n",
              "      <th>20</th>\n",
              "      <td>https://twitter.com/MarionKoopmans/status/1836...</td>\n",
              "      <td>Sep 19, 2024 · 4:41 PM UTC</td>\n",
              "      <td>waning of  antibodies to vaccinia and mpox vir...</td>\n",
              "    </tr>\n",
              "    <tr>\n",
              "      <th>21</th>\n",
              "      <td>https://twitter.com/51f02e1a0cff47d/status/183...</td>\n",
              "      <td>Sep 19, 2024 · 11:42 PM UTC</td>\n",
              "      <td>Is the MPox vaxx a booster product</td>\n",
              "    </tr>\n",
              "    <tr>\n",
              "      <th>22</th>\n",
              "      <td>https://twitter.com/herve_patrick/status/18365...</td>\n",
              "      <td>Sep 18, 2024 · 8:42 PM UTC</td>\n",
              "      <td>A l'attention du peuple🇨🇩 n'accepter aucun vac...</td>\n",
              "    </tr>\n",
              "    <tr>\n",
              "      <th>23</th>\n",
              "      <td>https://twitter.com/joel_mossong/status/183687...</td>\n",
              "      <td>Sep 19, 2024 · 9:04 PM UTC</td>\n",
              "      <td>Small genomic study of recent mpox samples fro...</td>\n",
              "    </tr>\n",
              "    <tr>\n",
              "      <th>24</th>\n",
              "      <td>https://twitter.com/sonia_elijah/status/183665...</td>\n",
              "      <td>Sep 19, 2024 · 6:51 AM UTC</td>\n",
              "      <td>This begs the question: how could the deadly A...</td>\n",
              "    </tr>\n",
              "  </tbody>\n",
              "</table>\n",
              "</div>"
            ],
            "text/plain": [
              "                                                 link  \\\n",
              "0   https://twitter.com/RaffaellaRegoli/status/183...   \n",
              "1   https://twitter.com/TonixPharma/status/1836838...   \n",
              "2   https://twitter.com/amerix/status/183666736473...   \n",
              "3   https://twitter.com/TabascoHOY/status/18369144...   \n",
              "4   https://twitter.com/CryptoPal4/status/18369163...   \n",
              "5   https://twitter.com/ChikatsuHayashi/status/183...   \n",
              "6   https://twitter.com/Monkeypoxtally/status/1836...   \n",
              "7   https://twitter.com/ken24918164/status/1836915...   \n",
              "8   https://twitter.com/heidijblake1/status/183691...   \n",
              "9   https://twitter.com/COVID19info101/status/1836...   \n",
              "10  https://twitter.com/HausofHilton/status/183605...   \n",
              "11  https://twitter.com/MarioNawfal/status/1836903...   \n",
              "12  https://twitter.com/AmeshAA/status/18369070569...   \n",
              "13  https://twitter.com/DavidWolfe/status/18321679...   \n",
              "14  https://twitter.com/salacioussheets/status/183...   \n",
              "15  https://twitter.com/TheInsiderPaper/status/183...   \n",
              "16  https://twitter.com/Reuters_Health/status/1836...   \n",
              "17  https://twitter.com/OnceNoticiasTV/status/1836...   \n",
              "18  https://twitter.com/FastNews77/status/18369142...   \n",
              "19  https://twitter.com/mthangadarwin4/status/1836...   \n",
              "20  https://twitter.com/MarionKoopmans/status/1836...   \n",
              "21  https://twitter.com/51f02e1a0cff47d/status/183...   \n",
              "22  https://twitter.com/herve_patrick/status/18365...   \n",
              "23  https://twitter.com/joel_mossong/status/183687...   \n",
              "24  https://twitter.com/sonia_elijah/status/183665...   \n",
              "\n",
              "                           date  \\\n",
              "0    Sep 19, 2024 · 9:27 AM UTC   \n",
              "1    Sep 19, 2024 · 6:43 PM UTC   \n",
              "2    Sep 19, 2024 · 7:23 AM UTC   \n",
              "3   Sep 19, 2024 · 11:45 PM UTC   \n",
              "4   Sep 19, 2024 · 11:52 PM UTC   \n",
              "5    Sep 19, 2024 · 1:29 PM UTC   \n",
              "6    Sep 19, 2024 · 6:14 PM UTC   \n",
              "7   Sep 19, 2024 · 11:50 PM UTC   \n",
              "8   Sep 19, 2024 · 11:50 PM UTC   \n",
              "9   Sep 19, 2024 · 11:50 PM UTC   \n",
              "10   Sep 17, 2024 · 2:45 PM UTC   \n",
              "11  Sep 19, 2024 · 10:59 PM UTC   \n",
              "12  Sep 19, 2024 · 11:15 PM UTC   \n",
              "13    Sep 6, 2024 · 9:24 PM UTC   \n",
              "14  Sep 19, 2024 · 11:47 PM UTC   \n",
              "15   Sep 19, 2024 · 2:46 PM UTC   \n",
              "16  Sep 19, 2024 · 11:45 PM UTC   \n",
              "17  Sep 19, 2024 · 11:45 PM UTC   \n",
              "18  Sep 19, 2024 · 11:44 PM UTC   \n",
              "19  Sep 19, 2024 · 11:43 PM UTC   \n",
              "20   Sep 19, 2024 · 4:41 PM UTC   \n",
              "21  Sep 19, 2024 · 11:42 PM UTC   \n",
              "22   Sep 18, 2024 · 8:42 PM UTC   \n",
              "23   Sep 19, 2024 · 9:04 PM UTC   \n",
              "24   Sep 19, 2024 · 6:51 AM UTC   \n",
              "\n",
              "                                                 text  \n",
              "0   #Covid 🚨++ARRIVANO I NUOVI VACCINI PER IL COVI...  \n",
              "1   A major difference between the mpox outbreak s...  \n",
              "2   PARENTS,  Go find out if your children in scho...  \n",
              "3   #México📍| ¿Vas a #Cancún? Q. Roo es el segundo...  \n",
              "4   Lol if you think that’s what the project is ab...  \n",
              "5   ★　FDAがシェディングの可能性を認める　★  FDAは、8月に承認したMpox(サル痘)ワ...  \n",
              "6   The number of mpox cases in Africa has surged ...  \n",
              "7   速報 ! 米国 FDA 食品医薬品局は、エマージェントの MPOX「ワクチン」を使用して10...  \n",
              "8   Hi Kap, I was just watching your video about m...  \n",
              "9   The number of mpox cases in Africa has jumped ...  \n",
              "10  Beza mpox dengan chicken pox   Untuk mpox, rua...  \n",
              "11  🚨🇨🇩 DR CONGO LAUNCHES MPOX VACCINATION CAMPAIG...  \n",
              "12  “Rwanda's mpox vaccine campaign began 2 days a...  \n",
              "13  Adverse reactions for the newly approved ACAM2...  \n",
              "14  If you’re waiting on an email from me, expect ...  \n",
              "15  BREAKING - Mpox vaccines administered in Rwand...  \n",
              "16  Bavarian Nordic said on Thursday its mpox vacc...  \n",
              "17  Alrededor de 300 personas de Ruanda, en África...  \n",
              "18  Africa CDC says mpox ‘not under control’ on co...  \n",
              "19  Mpox (Monkeypox) - Definition, types, causes, ...  \n",
              "20  waning of  antibodies to vaccinia and mpox vir...  \n",
              "21                 Is the MPox vaxx a booster product  \n",
              "22  A l'attention du peuple🇨🇩 n'accepter aucun vac...  \n",
              "23  Small genomic study of recent mpox samples fro...  \n",
              "24  This begs the question: how could the deadly A...  "
            ]
          },
          "execution_count": 23,
          "metadata": {},
          "output_type": "execute_result"
        }
      ],
      "source": [
        "df = pd.DataFrame(data[['link', 'date', 'text']])\n",
        "df.to_json(\"tweets_filtered.json\", orient='index')\n",
        "df"
      ]
    },
    {
      "cell_type": "code",
      "execution_count": 24,
      "metadata": {},
      "outputs": [
        {
          "name": "stdout",
          "output_type": "stream",
          "text": [
            "Requirement already satisfied: firebase-admin in /Users/sufyan/opt/anaconda3/envs/rag/lib/python3.10/site-packages (6.5.0)\n",
            "Requirement already satisfied: cachecontrol>=0.12.6 in /Users/sufyan/opt/anaconda3/envs/rag/lib/python3.10/site-packages (from firebase-admin) (0.14.0)\n",
            "Requirement already satisfied: google-api-python-client>=1.7.8 in /Users/sufyan/opt/anaconda3/envs/rag/lib/python3.10/site-packages (from firebase-admin) (2.146.0)\n",
            "Requirement already satisfied: google-cloud-storage>=1.37.1 in /Users/sufyan/opt/anaconda3/envs/rag/lib/python3.10/site-packages (from firebase-admin) (2.18.2)\n",
            "Requirement already satisfied: pyjwt>=2.5.0 in /Users/sufyan/opt/anaconda3/envs/rag/lib/python3.10/site-packages (from pyjwt[crypto]>=2.5.0->firebase-admin) (2.9.0)\n",
            "Requirement already satisfied: google-api-core<3.0.0dev,>=1.22.1 in /Users/sufyan/opt/anaconda3/envs/rag/lib/python3.10/site-packages (from google-api-core[grpc]<3.0.0dev,>=1.22.1; platform_python_implementation != \"PyPy\"->firebase-admin) (2.20.0)\n",
            "Requirement already satisfied: google-cloud-firestore>=2.9.1 in /Users/sufyan/opt/anaconda3/envs/rag/lib/python3.10/site-packages (from firebase-admin) (2.18.0)\n",
            "Requirement already satisfied: requests>=2.16.0 in /Users/sufyan/opt/anaconda3/envs/rag/lib/python3.10/site-packages (from cachecontrol>=0.12.6->firebase-admin) (2.32.3)\n",
            "Requirement already satisfied: msgpack<2.0.0,>=0.5.2 in /Users/sufyan/opt/anaconda3/envs/rag/lib/python3.10/site-packages (from cachecontrol>=0.12.6->firebase-admin) (1.1.0)\n",
            "Requirement already satisfied: googleapis-common-protos<2.0.dev0,>=1.56.2 in /Users/sufyan/opt/anaconda3/envs/rag/lib/python3.10/site-packages (from google-api-core<3.0.0dev,>=1.22.1->google-api-core[grpc]<3.0.0dev,>=1.22.1; platform_python_implementation != \"PyPy\"->firebase-admin) (1.63.2)\n",
            "Requirement already satisfied: protobuf!=3.20.0,!=3.20.1,!=4.21.0,!=4.21.1,!=4.21.2,!=4.21.3,!=4.21.4,!=4.21.5,<6.0.0.dev0,>=3.19.5 in /Users/sufyan/opt/anaconda3/envs/rag/lib/python3.10/site-packages (from google-api-core<3.0.0dev,>=1.22.1->google-api-core[grpc]<3.0.0dev,>=1.22.1; platform_python_implementation != \"PyPy\"->firebase-admin) (5.28.2)\n",
            "Requirement already satisfied: proto-plus<2.0.0dev,>=1.22.3 in /Users/sufyan/opt/anaconda3/envs/rag/lib/python3.10/site-packages (from google-api-core<3.0.0dev,>=1.22.1->google-api-core[grpc]<3.0.0dev,>=1.22.1; platform_python_implementation != \"PyPy\"->firebase-admin) (1.24.0)\n",
            "Requirement already satisfied: google-auth<3.0.dev0,>=2.14.1 in /Users/sufyan/opt/anaconda3/envs/rag/lib/python3.10/site-packages (from google-api-core<3.0.0dev,>=1.22.1->google-api-core[grpc]<3.0.0dev,>=1.22.1; platform_python_implementation != \"PyPy\"->firebase-admin) (2.35.0)\n",
            "Requirement already satisfied: grpcio<2.0dev,>=1.33.2 in /Users/sufyan/opt/anaconda3/envs/rag/lib/python3.10/site-packages (from google-api-core[grpc]<3.0.0dev,>=1.22.1; platform_python_implementation != \"PyPy\"->firebase-admin) (1.66.1)\n",
            "Requirement already satisfied: grpcio-status<2.0.dev0,>=1.33.2 in /Users/sufyan/opt/anaconda3/envs/rag/lib/python3.10/site-packages (from google-api-core[grpc]<3.0.0dev,>=1.22.1; platform_python_implementation != \"PyPy\"->firebase-admin) (1.66.1)\n",
            "Requirement already satisfied: httplib2<1.dev0,>=0.19.0 in /Users/sufyan/opt/anaconda3/envs/rag/lib/python3.10/site-packages (from google-api-python-client>=1.7.8->firebase-admin) (0.22.0)\n",
            "Requirement already satisfied: google-auth-httplib2<1.0.0,>=0.2.0 in /Users/sufyan/opt/anaconda3/envs/rag/lib/python3.10/site-packages (from google-api-python-client>=1.7.8->firebase-admin) (0.2.0)\n",
            "Requirement already satisfied: uritemplate<5,>=3.0.1 in /Users/sufyan/opt/anaconda3/envs/rag/lib/python3.10/site-packages (from google-api-python-client>=1.7.8->firebase-admin) (4.1.1)\n",
            "Requirement already satisfied: google-cloud-core<3.0.0dev,>=1.4.1 in /Users/sufyan/opt/anaconda3/envs/rag/lib/python3.10/site-packages (from google-cloud-firestore>=2.9.1->firebase-admin) (2.4.1)\n",
            "Requirement already satisfied: google-resumable-media>=2.7.2 in /Users/sufyan/opt/anaconda3/envs/rag/lib/python3.10/site-packages (from google-cloud-storage>=1.37.1->firebase-admin) (2.7.2)\n",
            "Requirement already satisfied: google-crc32c<2.0dev,>=1.0 in /Users/sufyan/opt/anaconda3/envs/rag/lib/python3.10/site-packages (from google-cloud-storage>=1.37.1->firebase-admin) (1.6.0)\n",
            "Requirement already satisfied: cryptography>=3.4.0 in /Users/sufyan/opt/anaconda3/envs/rag/lib/python3.10/site-packages (from pyjwt[crypto]>=2.5.0->firebase-admin) (43.0.1)\n",
            "Requirement already satisfied: cffi>=1.12 in /Users/sufyan/opt/anaconda3/envs/rag/lib/python3.10/site-packages (from cryptography>=3.4.0->pyjwt[crypto]>=2.5.0->firebase-admin) (1.17.1)\n",
            "Requirement already satisfied: cachetools<6.0,>=2.0.0 in /Users/sufyan/opt/anaconda3/envs/rag/lib/python3.10/site-packages (from google-auth<3.0.dev0,>=2.14.1->google-api-core<3.0.0dev,>=1.22.1->google-api-core[grpc]<3.0.0dev,>=1.22.1; platform_python_implementation != \"PyPy\"->firebase-admin) (5.5.0)\n",
            "Requirement already satisfied: pyasn1-modules>=0.2.1 in /Users/sufyan/opt/anaconda3/envs/rag/lib/python3.10/site-packages (from google-auth<3.0.dev0,>=2.14.1->google-api-core<3.0.0dev,>=1.22.1->google-api-core[grpc]<3.0.0dev,>=1.22.1; platform_python_implementation != \"PyPy\"->firebase-admin) (0.4.1)\n",
            "Requirement already satisfied: rsa<5,>=3.1.4 in /Users/sufyan/opt/anaconda3/envs/rag/lib/python3.10/site-packages (from google-auth<3.0.dev0,>=2.14.1->google-api-core<3.0.0dev,>=1.22.1->google-api-core[grpc]<3.0.0dev,>=1.22.1; platform_python_implementation != \"PyPy\"->firebase-admin) (4.9)\n",
            "Requirement already satisfied: pyparsing!=3.0.0,!=3.0.1,!=3.0.2,!=3.0.3,<4,>=2.4.2 in /Users/sufyan/opt/anaconda3/envs/rag/lib/python3.10/site-packages (from httplib2<1.dev0,>=0.19.0->google-api-python-client>=1.7.8->firebase-admin) (3.1.4)\n",
            "Requirement already satisfied: charset-normalizer<4,>=2 in /Users/sufyan/opt/anaconda3/envs/rag/lib/python3.10/site-packages (from requests>=2.16.0->cachecontrol>=0.12.6->firebase-admin) (3.3.2)\n",
            "Requirement already satisfied: idna<4,>=2.5 in /Users/sufyan/opt/anaconda3/envs/rag/lib/python3.10/site-packages (from requests>=2.16.0->cachecontrol>=0.12.6->firebase-admin) (3.8)\n",
            "Requirement already satisfied: urllib3<3,>=1.21.1 in /Users/sufyan/opt/anaconda3/envs/rag/lib/python3.10/site-packages (from requests>=2.16.0->cachecontrol>=0.12.6->firebase-admin) (2.2.2)\n",
            "Requirement already satisfied: certifi>=2017.4.17 in /Users/sufyan/opt/anaconda3/envs/rag/lib/python3.10/site-packages (from requests>=2.16.0->cachecontrol>=0.12.6->firebase-admin) (2024.7.4)\n",
            "Requirement already satisfied: pycparser in /Users/sufyan/opt/anaconda3/envs/rag/lib/python3.10/site-packages (from cffi>=1.12->cryptography>=3.4.0->pyjwt[crypto]>=2.5.0->firebase-admin) (2.22)\n",
            "Requirement already satisfied: pyasn1<0.7.0,>=0.4.6 in /Users/sufyan/opt/anaconda3/envs/rag/lib/python3.10/site-packages (from pyasn1-modules>=0.2.1->google-auth<3.0.dev0,>=2.14.1->google-api-core<3.0.0dev,>=1.22.1->google-api-core[grpc]<3.0.0dev,>=1.22.1; platform_python_implementation != \"PyPy\"->firebase-admin) (0.6.1)\n"
          ]
        }
      ],
      "source": [
        "!pip install firebase-admin\n"
      ]
    },
    {
      "cell_type": "code",
      "execution_count": 40,
      "metadata": {},
      "outputs": [],
      "source": [
        "def upload_to_firebase(data):\n",
        "    collection_ref = db.collection('tweets')\n",
        "\n",
        "    records = data.to_dict(orient='records')\n",
        "    \n",
        "    for tweet in records:\n",
        "        doc_ref = collection_ref.document() \n",
        "        doc_ref.set(tweet)\n",
        "\n",
        "    print(\"Data uploaded to Firebase successfully!\")"
      ]
    },
    {
      "cell_type": "code",
      "execution_count": 41,
      "metadata": {},
      "outputs": [
        {
          "name": "stdout",
          "output_type": "stream",
          "text": [
            "Data uploaded to Firebase successfully!\n"
          ]
        }
      ],
      "source": [
        "upload_to_firebase(df)"
      ]
    }
  ],
  "metadata": {
    "kernelspec": {
      "display_name": "Python 3",
      "language": "python",
      "name": "python3"
    },
    "language_info": {
      "codemirror_mode": {
        "name": "ipython",
        "version": 3
      },
      "file_extension": ".py",
      "mimetype": "text/x-python",
      "name": "python",
      "nbconvert_exporter": "python",
      "pygments_lexer": "ipython3",
      "version": "3.10.4"
    }
  },
  "nbformat": 4,
  "nbformat_minor": 2
}
