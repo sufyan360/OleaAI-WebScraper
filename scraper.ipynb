{
  "cells": [
    {
      "cell_type": "code",
      "execution_count": 168,
      "metadata": {},
      "outputs": [
        {
          "name": "stderr",
          "output_type": "stream",
          "text": [
            "python(48864) MallocStackLogging: can't turn off malloc stack logging because it was not enabled.\n"
          ]
        },
        {
          "name": "stdout",
          "output_type": "stream",
          "text": [
            "Requirement already satisfied: pandas in /Users/sufyan/opt/anaconda3/envs/rag/lib/python3.10/site-packages (2.2.2)\n",
            "Requirement already satisfied: requests in /Users/sufyan/opt/anaconda3/envs/rag/lib/python3.10/site-packages (2.32.3)\n",
            "Requirement already satisfied: numpy>=1.22.4 in /Users/sufyan/opt/anaconda3/envs/rag/lib/python3.10/site-packages (from pandas) (2.1.0)\n",
            "Requirement already satisfied: python-dateutil>=2.8.2 in /Users/sufyan/opt/anaconda3/envs/rag/lib/python3.10/site-packages (from pandas) (2.9.0)\n",
            "Requirement already satisfied: pytz>=2020.1 in /Users/sufyan/opt/anaconda3/envs/rag/lib/python3.10/site-packages (from pandas) (2024.2)\n",
            "Requirement already satisfied: tzdata>=2022.7 in /Users/sufyan/opt/anaconda3/envs/rag/lib/python3.10/site-packages (from pandas) (2024.1)\n",
            "Requirement already satisfied: charset-normalizer<4,>=2 in /Users/sufyan/opt/anaconda3/envs/rag/lib/python3.10/site-packages (from requests) (3.3.2)\n",
            "Requirement already satisfied: idna<4,>=2.5 in /Users/sufyan/opt/anaconda3/envs/rag/lib/python3.10/site-packages (from requests) (3.8)\n",
            "Requirement already satisfied: urllib3<3,>=1.21.1 in /Users/sufyan/opt/anaconda3/envs/rag/lib/python3.10/site-packages (from requests) (2.2.2)\n",
            "Requirement already satisfied: certifi>=2017.4.17 in /Users/sufyan/opt/anaconda3/envs/rag/lib/python3.10/site-packages (from requests) (2024.7.4)\n",
            "Requirement already satisfied: six>=1.5 in /Users/sufyan/opt/anaconda3/envs/rag/lib/python3.10/site-packages (from python-dateutil>=2.8.2->pandas) (1.16.0)\n"
          ]
        }
      ],
      "source": [
        "!pip install pandas requests"
      ]
    },
    {
      "cell_type": "code",
      "execution_count": 169,
      "metadata": {},
      "outputs": [
        {
          "name": "stderr",
          "output_type": "stream",
          "text": [
            "python(48869) MallocStackLogging: can't turn off malloc stack logging because it was not enabled.\n"
          ]
        },
        {
          "name": "stdout",
          "output_type": "stream",
          "text": [
            "Requirement already satisfied: ntscraper in /Users/sufyan/opt/anaconda3/envs/rag/lib/python3.10/site-packages (0.3.17)\n",
            "Requirement already satisfied: requests>=2.28 in /Users/sufyan/opt/anaconda3/envs/rag/lib/python3.10/site-packages (from ntscraper) (2.32.3)\n",
            "Requirement already satisfied: beautifulsoup4>=4.11 in /Users/sufyan/opt/anaconda3/envs/rag/lib/python3.10/site-packages (from ntscraper) (4.12.3)\n",
            "Requirement already satisfied: lxml>=4.9 in /Users/sufyan/opt/anaconda3/envs/rag/lib/python3.10/site-packages (from ntscraper) (5.3.0)\n",
            "Requirement already satisfied: tqdm>=4.66 in /Users/sufyan/opt/anaconda3/envs/rag/lib/python3.10/site-packages (from ntscraper) (4.66.5)\n",
            "Requirement already satisfied: soupsieve>1.2 in /Users/sufyan/opt/anaconda3/envs/rag/lib/python3.10/site-packages (from beautifulsoup4>=4.11->ntscraper) (2.6)\n",
            "Requirement already satisfied: charset-normalizer<4,>=2 in /Users/sufyan/opt/anaconda3/envs/rag/lib/python3.10/site-packages (from requests>=2.28->ntscraper) (3.3.2)\n",
            "Requirement already satisfied: idna<4,>=2.5 in /Users/sufyan/opt/anaconda3/envs/rag/lib/python3.10/site-packages (from requests>=2.28->ntscraper) (3.8)\n",
            "Requirement already satisfied: urllib3<3,>=1.21.1 in /Users/sufyan/opt/anaconda3/envs/rag/lib/python3.10/site-packages (from requests>=2.28->ntscraper) (2.2.2)\n",
            "Requirement already satisfied: certifi>=2017.4.17 in /Users/sufyan/opt/anaconda3/envs/rag/lib/python3.10/site-packages (from requests>=2.28->ntscraper) (2024.7.4)\n",
            "Note: you may need to restart the kernel to use updated packages.\n"
          ]
        }
      ],
      "source": [
        "pip install ntscraper"
      ]
    },
    {
      "cell_type": "code",
      "execution_count": 170,
      "metadata": {},
      "outputs": [
        {
          "name": "stderr",
          "output_type": "stream",
          "text": [
            "python(48872) MallocStackLogging: can't turn off malloc stack logging because it was not enabled.\n"
          ]
        },
        {
          "name": "stdout",
          "output_type": "stream",
          "text": [
            "Requirement already satisfied: firebase-admin in /Users/sufyan/opt/anaconda3/envs/rag/lib/python3.10/site-packages (6.5.0)\n",
            "Requirement already satisfied: cachecontrol>=0.12.6 in /Users/sufyan/opt/anaconda3/envs/rag/lib/python3.10/site-packages (from firebase-admin) (0.14.0)\n",
            "Requirement already satisfied: google-api-python-client>=1.7.8 in /Users/sufyan/opt/anaconda3/envs/rag/lib/python3.10/site-packages (from firebase-admin) (2.146.0)\n",
            "Requirement already satisfied: google-cloud-storage>=1.37.1 in /Users/sufyan/opt/anaconda3/envs/rag/lib/python3.10/site-packages (from firebase-admin) (2.18.2)\n",
            "Requirement already satisfied: pyjwt>=2.5.0 in /Users/sufyan/opt/anaconda3/envs/rag/lib/python3.10/site-packages (from pyjwt[crypto]>=2.5.0->firebase-admin) (2.9.0)\n",
            "Requirement already satisfied: google-api-core<3.0.0dev,>=1.22.1 in /Users/sufyan/opt/anaconda3/envs/rag/lib/python3.10/site-packages (from google-api-core[grpc]<3.0.0dev,>=1.22.1; platform_python_implementation != \"PyPy\"->firebase-admin) (2.20.0)\n",
            "Requirement already satisfied: google-cloud-firestore>=2.9.1 in /Users/sufyan/opt/anaconda3/envs/rag/lib/python3.10/site-packages (from firebase-admin) (2.18.0)\n",
            "Requirement already satisfied: requests>=2.16.0 in /Users/sufyan/opt/anaconda3/envs/rag/lib/python3.10/site-packages (from cachecontrol>=0.12.6->firebase-admin) (2.32.3)\n",
            "Requirement already satisfied: msgpack<2.0.0,>=0.5.2 in /Users/sufyan/opt/anaconda3/envs/rag/lib/python3.10/site-packages (from cachecontrol>=0.12.6->firebase-admin) (1.1.0)\n",
            "Requirement already satisfied: googleapis-common-protos<2.0.dev0,>=1.56.2 in /Users/sufyan/opt/anaconda3/envs/rag/lib/python3.10/site-packages (from google-api-core<3.0.0dev,>=1.22.1->google-api-core[grpc]<3.0.0dev,>=1.22.1; platform_python_implementation != \"PyPy\"->firebase-admin) (1.63.2)\n",
            "Requirement already satisfied: protobuf!=3.20.0,!=3.20.1,!=4.21.0,!=4.21.1,!=4.21.2,!=4.21.3,!=4.21.4,!=4.21.5,<6.0.0.dev0,>=3.19.5 in /Users/sufyan/opt/anaconda3/envs/rag/lib/python3.10/site-packages (from google-api-core<3.0.0dev,>=1.22.1->google-api-core[grpc]<3.0.0dev,>=1.22.1; platform_python_implementation != \"PyPy\"->firebase-admin) (5.28.2)\n",
            "Requirement already satisfied: proto-plus<2.0.0dev,>=1.22.3 in /Users/sufyan/opt/anaconda3/envs/rag/lib/python3.10/site-packages (from google-api-core<3.0.0dev,>=1.22.1->google-api-core[grpc]<3.0.0dev,>=1.22.1; platform_python_implementation != \"PyPy\"->firebase-admin) (1.24.0)\n",
            "Requirement already satisfied: google-auth<3.0.dev0,>=2.14.1 in /Users/sufyan/opt/anaconda3/envs/rag/lib/python3.10/site-packages (from google-api-core<3.0.0dev,>=1.22.1->google-api-core[grpc]<3.0.0dev,>=1.22.1; platform_python_implementation != \"PyPy\"->firebase-admin) (2.35.0)\n",
            "Requirement already satisfied: grpcio<2.0dev,>=1.33.2 in /Users/sufyan/opt/anaconda3/envs/rag/lib/python3.10/site-packages (from google-api-core[grpc]<3.0.0dev,>=1.22.1; platform_python_implementation != \"PyPy\"->firebase-admin) (1.66.1)\n",
            "Requirement already satisfied: grpcio-status<2.0.dev0,>=1.33.2 in /Users/sufyan/opt/anaconda3/envs/rag/lib/python3.10/site-packages (from google-api-core[grpc]<3.0.0dev,>=1.22.1; platform_python_implementation != \"PyPy\"->firebase-admin) (1.66.1)\n",
            "Requirement already satisfied: httplib2<1.dev0,>=0.19.0 in /Users/sufyan/opt/anaconda3/envs/rag/lib/python3.10/site-packages (from google-api-python-client>=1.7.8->firebase-admin) (0.22.0)\n",
            "Requirement already satisfied: google-auth-httplib2<1.0.0,>=0.2.0 in /Users/sufyan/opt/anaconda3/envs/rag/lib/python3.10/site-packages (from google-api-python-client>=1.7.8->firebase-admin) (0.2.0)\n",
            "Requirement already satisfied: uritemplate<5,>=3.0.1 in /Users/sufyan/opt/anaconda3/envs/rag/lib/python3.10/site-packages (from google-api-python-client>=1.7.8->firebase-admin) (4.1.1)\n",
            "Requirement already satisfied: google-cloud-core<3.0.0dev,>=1.4.1 in /Users/sufyan/opt/anaconda3/envs/rag/lib/python3.10/site-packages (from google-cloud-firestore>=2.9.1->firebase-admin) (2.4.1)\n",
            "Requirement already satisfied: google-resumable-media>=2.7.2 in /Users/sufyan/opt/anaconda3/envs/rag/lib/python3.10/site-packages (from google-cloud-storage>=1.37.1->firebase-admin) (2.7.2)\n",
            "Requirement already satisfied: google-crc32c<2.0dev,>=1.0 in /Users/sufyan/opt/anaconda3/envs/rag/lib/python3.10/site-packages (from google-cloud-storage>=1.37.1->firebase-admin) (1.6.0)\n",
            "Requirement already satisfied: cryptography>=3.4.0 in /Users/sufyan/opt/anaconda3/envs/rag/lib/python3.10/site-packages (from pyjwt[crypto]>=2.5.0->firebase-admin) (43.0.1)\n",
            "Requirement already satisfied: cffi>=1.12 in /Users/sufyan/opt/anaconda3/envs/rag/lib/python3.10/site-packages (from cryptography>=3.4.0->pyjwt[crypto]>=2.5.0->firebase-admin) (1.17.1)\n",
            "Requirement already satisfied: cachetools<6.0,>=2.0.0 in /Users/sufyan/opt/anaconda3/envs/rag/lib/python3.10/site-packages (from google-auth<3.0.dev0,>=2.14.1->google-api-core<3.0.0dev,>=1.22.1->google-api-core[grpc]<3.0.0dev,>=1.22.1; platform_python_implementation != \"PyPy\"->firebase-admin) (5.5.0)\n",
            "Requirement already satisfied: pyasn1-modules>=0.2.1 in /Users/sufyan/opt/anaconda3/envs/rag/lib/python3.10/site-packages (from google-auth<3.0.dev0,>=2.14.1->google-api-core<3.0.0dev,>=1.22.1->google-api-core[grpc]<3.0.0dev,>=1.22.1; platform_python_implementation != \"PyPy\"->firebase-admin) (0.4.1)\n",
            "Requirement already satisfied: rsa<5,>=3.1.4 in /Users/sufyan/opt/anaconda3/envs/rag/lib/python3.10/site-packages (from google-auth<3.0.dev0,>=2.14.1->google-api-core<3.0.0dev,>=1.22.1->google-api-core[grpc]<3.0.0dev,>=1.22.1; platform_python_implementation != \"PyPy\"->firebase-admin) (4.9)\n",
            "Requirement already satisfied: pyparsing!=3.0.0,!=3.0.1,!=3.0.2,!=3.0.3,<4,>=2.4.2 in /Users/sufyan/opt/anaconda3/envs/rag/lib/python3.10/site-packages (from httplib2<1.dev0,>=0.19.0->google-api-python-client>=1.7.8->firebase-admin) (3.1.4)\n",
            "Requirement already satisfied: charset-normalizer<4,>=2 in /Users/sufyan/opt/anaconda3/envs/rag/lib/python3.10/site-packages (from requests>=2.16.0->cachecontrol>=0.12.6->firebase-admin) (3.3.2)\n",
            "Requirement already satisfied: idna<4,>=2.5 in /Users/sufyan/opt/anaconda3/envs/rag/lib/python3.10/site-packages (from requests>=2.16.0->cachecontrol>=0.12.6->firebase-admin) (3.8)\n",
            "Requirement already satisfied: urllib3<3,>=1.21.1 in /Users/sufyan/opt/anaconda3/envs/rag/lib/python3.10/site-packages (from requests>=2.16.0->cachecontrol>=0.12.6->firebase-admin) (2.2.2)\n",
            "Requirement already satisfied: certifi>=2017.4.17 in /Users/sufyan/opt/anaconda3/envs/rag/lib/python3.10/site-packages (from requests>=2.16.0->cachecontrol>=0.12.6->firebase-admin) (2024.7.4)\n",
            "Requirement already satisfied: pycparser in /Users/sufyan/opt/anaconda3/envs/rag/lib/python3.10/site-packages (from cffi>=1.12->cryptography>=3.4.0->pyjwt[crypto]>=2.5.0->firebase-admin) (2.22)\n",
            "Requirement already satisfied: pyasn1<0.7.0,>=0.4.6 in /Users/sufyan/opt/anaconda3/envs/rag/lib/python3.10/site-packages (from pyasn1-modules>=0.2.1->google-auth<3.0.dev0,>=2.14.1->google-api-core<3.0.0dev,>=1.22.1->google-api-core[grpc]<3.0.0dev,>=1.22.1; platform_python_implementation != \"PyPy\"->firebase-admin) (0.6.1)\n"
          ]
        }
      ],
      "source": [
        "!pip install firebase-admin\n"
      ]
    },
    {
      "cell_type": "code",
      "execution_count": 171,
      "metadata": {},
      "outputs": [
        {
          "name": "stderr",
          "output_type": "stream",
          "text": [
            "python(48875) MallocStackLogging: can't turn off malloc stack logging because it was not enabled.\n"
          ]
        },
        {
          "name": "stdout",
          "output_type": "stream",
          "text": [
            "Requirement already satisfied: beautifulsoup4 in /Users/sufyan/opt/anaconda3/envs/rag/lib/python3.10/site-packages (4.12.3)\n",
            "Requirement already satisfied: soupsieve>1.2 in /Users/sufyan/opt/anaconda3/envs/rag/lib/python3.10/site-packages (from beautifulsoup4) (2.6)\n",
            "Note: you may need to restart the kernel to use updated packages.\n"
          ]
        }
      ],
      "source": [
        "pip install beautifulsoup4"
      ]
    },
    {
      "cell_type": "code",
      "execution_count": 172,
      "metadata": {},
      "outputs": [],
      "source": [
        "import requests\n",
        "import pandas as pd\n",
        "from dotenv import load_dotenv\n",
        "load_dotenv()\n",
        "import os\n",
        "import json\n",
        "import firebase_admin\n",
        "from firebase_admin import credentials, firestore, db\n",
        "from bs4 import BeautifulSoup\n",
        "from ntscraper import Nitter"
      ]
    },
    {
      "cell_type": "code",
      "execution_count": 173,
      "metadata": {},
      "outputs": [],
      "source": [
        "service_account_path = os.getenv('FIREBASE_SERVICE_ACCOUNT_KEY')"
      ]
    },
    {
      "cell_type": "code",
      "execution_count": 174,
      "metadata": {},
      "outputs": [],
      "source": [
        "if not firebase_admin._apps:\n",
        "    cred = credentials.Certificate(service_account_path)\n",
        "    firebase_admin.initialize_app(cred)"
      ]
    },
    {
      "cell_type": "code",
      "execution_count": 175,
      "metadata": {},
      "outputs": [],
      "source": [
        "db = firestore.client()"
      ]
    },
    {
      "cell_type": "code",
      "execution_count": 176,
      "metadata": {},
      "outputs": [
        {
          "name": "stderr",
          "output_type": "stream",
          "text": [
            "Testing instances: 100%|██████████| 16/16 [00:20<00:00,  1.28s/it]\n"
          ]
        }
      ],
      "source": [
        "scraper = Nitter()\n",
        "scraper.working_instances = ['https://nitter.net']"
      ]
    },
    {
      "cell_type": "code",
      "execution_count": 177,
      "metadata": {},
      "outputs": [],
      "source": [
        "def getTweets(name, modes, num):\n",
        "    total = scraper.get_tweets(name, mode=modes, number=num)\n",
        "    print(total)\n",
        "    \n",
        "    final_tweets = []\n",
        "    if 'tweets' in total:\n",
        "        for tweet in total['tweets']:  # Adjust the key to match actual data\n",
        "            data = [tweet['link'], tweet['text'], tweet['date']]\n",
        "            final_tweets.append(data)\n",
        "        data = pd.DataFrame(final_tweets, columns=['link', 'text', 'date'])\n",
        "        return data\n",
        "    else:\n",
        "        print(\"Key 'tweets' not found in response\")\n",
        "        return None"
      ]
    },
    {
      "cell_type": "code",
      "execution_count": 189,
      "metadata": {},
      "outputs": [
        {
          "name": "stdout",
          "output_type": "stream",
          "text": [
            "04-Oct-24 09:33:37 - No instance specified, using random instance https://xcancel.com\n",
            "04-Oct-24 09:33:40 - Empty page on https://xcancel.com\n"
          ]
        },
        {
          "ename": "ValueError",
          "evalue": "Invalid instance",
          "output_type": "error",
          "traceback": [
            "\u001b[0;31m---------------------------------------------------------------------------\u001b[0m",
            "\u001b[0;31mValueError\u001b[0m                                Traceback (most recent call last)",
            "Cell \u001b[0;32mIn[189], line 1\u001b[0m\n\u001b[0;32m----> 1\u001b[0m data \u001b[38;5;241m=\u001b[39m \u001b[43mgetTweets\u001b[49m\u001b[43m(\u001b[49m\u001b[38;5;124;43m'\u001b[39;49m\u001b[38;5;124;43mmpox\u001b[39;49m\u001b[38;5;124;43m'\u001b[39;49m\u001b[43m,\u001b[49m\u001b[43m \u001b[49m\u001b[38;5;124;43m'\u001b[39;49m\u001b[38;5;124;43mterm\u001b[39;49m\u001b[38;5;124;43m'\u001b[39;49m\u001b[43m,\u001b[49m\u001b[43m \u001b[49m\u001b[38;5;241;43m25\u001b[39;49m\u001b[43m)\u001b[49m\n\u001b[1;32m      2\u001b[0m \u001b[38;5;28mprint\u001b[39m(data)\n",
            "Cell \u001b[0;32mIn[177], line 2\u001b[0m, in \u001b[0;36mgetTweets\u001b[0;34m(name, modes, num)\u001b[0m\n\u001b[1;32m      1\u001b[0m \u001b[38;5;28;01mdef\u001b[39;00m \u001b[38;5;21mgetTweets\u001b[39m(name, modes, num):\n\u001b[0;32m----> 2\u001b[0m     total \u001b[38;5;241m=\u001b[39m \u001b[43mscraper\u001b[49m\u001b[38;5;241;43m.\u001b[39;49m\u001b[43mget_tweets\u001b[49m\u001b[43m(\u001b[49m\u001b[43mname\u001b[49m\u001b[43m,\u001b[49m\u001b[43m \u001b[49m\u001b[43mmode\u001b[49m\u001b[38;5;241;43m=\u001b[39;49m\u001b[43mmodes\u001b[49m\u001b[43m,\u001b[49m\u001b[43m \u001b[49m\u001b[43mnumber\u001b[49m\u001b[38;5;241;43m=\u001b[39;49m\u001b[43mnum\u001b[49m\u001b[43m)\u001b[49m\n\u001b[1;32m      3\u001b[0m     \u001b[38;5;28mprint\u001b[39m(total)\n\u001b[1;32m      5\u001b[0m     final_tweets \u001b[38;5;241m=\u001b[39m []\n",
            "File \u001b[0;32m~/opt/anaconda3/envs/rag/lib/python3.10/site-packages/ntscraper/nitter.py:932\u001b[0m, in \u001b[0;36mNitter.get_tweets\u001b[0;34m(self, terms, mode, number, since, until, near, language, to, replies, filters, exclude, max_retries, instance)\u001b[0m\n\u001b[1;32m    929\u001b[0m \u001b[38;5;28;01mif\u001b[39;00m \u001b[38;5;28mtype\u001b[39m(terms) \u001b[38;5;241m==\u001b[39m \u001b[38;5;28mstr\u001b[39m:\n\u001b[1;32m    930\u001b[0m     term \u001b[38;5;241m=\u001b[39m terms\u001b[38;5;241m.\u001b[39mstrip()\n\u001b[0;32m--> 932\u001b[0m     \u001b[38;5;28;01mreturn\u001b[39;00m \u001b[38;5;28;43mself\u001b[39;49m\u001b[38;5;241;43m.\u001b[39;49m\u001b[43m_search\u001b[49m\u001b[43m(\u001b[49m\n\u001b[1;32m    933\u001b[0m \u001b[43m        \u001b[49m\u001b[43mterm\u001b[49m\u001b[43m,\u001b[49m\n\u001b[1;32m    934\u001b[0m \u001b[43m        \u001b[49m\u001b[43mmode\u001b[49m\u001b[43m,\u001b[49m\n\u001b[1;32m    935\u001b[0m \u001b[43m        \u001b[49m\u001b[43mnumber\u001b[49m\u001b[43m,\u001b[49m\n\u001b[1;32m    936\u001b[0m \u001b[43m        \u001b[49m\u001b[43msince\u001b[49m\u001b[43m,\u001b[49m\n\u001b[1;32m    937\u001b[0m \u001b[43m        \u001b[49m\u001b[43muntil\u001b[49m\u001b[43m,\u001b[49m\n\u001b[1;32m    938\u001b[0m \u001b[43m        \u001b[49m\u001b[43mnear\u001b[49m\u001b[43m,\u001b[49m\n\u001b[1;32m    939\u001b[0m \u001b[43m        \u001b[49m\u001b[43mlanguage\u001b[49m\u001b[43m,\u001b[49m\n\u001b[1;32m    940\u001b[0m \u001b[43m        \u001b[49m\u001b[43mto\u001b[49m\u001b[43m,\u001b[49m\n\u001b[1;32m    941\u001b[0m \u001b[43m        \u001b[49m\u001b[43mreplies\u001b[49m\u001b[43m,\u001b[49m\n\u001b[1;32m    942\u001b[0m \u001b[43m        \u001b[49m\u001b[43mfilters\u001b[49m\u001b[43m,\u001b[49m\n\u001b[1;32m    943\u001b[0m \u001b[43m        \u001b[49m\u001b[43mexclude\u001b[49m\u001b[43m,\u001b[49m\n\u001b[1;32m    944\u001b[0m \u001b[43m        \u001b[49m\u001b[43mmax_retries\u001b[49m\u001b[43m,\u001b[49m\n\u001b[1;32m    945\u001b[0m \u001b[43m        \u001b[49m\u001b[43minstance\u001b[49m\u001b[43m,\u001b[49m\n\u001b[1;32m    946\u001b[0m \u001b[43m    \u001b[49m\u001b[43m)\u001b[49m\n\u001b[1;32m    947\u001b[0m \u001b[38;5;28;01melif\u001b[39;00m \u001b[38;5;28mlen\u001b[39m(terms) \u001b[38;5;241m==\u001b[39m \u001b[38;5;241m1\u001b[39m:\n\u001b[1;32m    948\u001b[0m     term \u001b[38;5;241m=\u001b[39m terms[\u001b[38;5;241m0\u001b[39m]\u001b[38;5;241m.\u001b[39mstrip()\n",
            "File \u001b[0;32m~/opt/anaconda3/envs/rag/lib/python3.10/site-packages/ntscraper/nitter.py:785\u001b[0m, in \u001b[0;36mNitter._search\u001b[0;34m(self, term, mode, number, since, until, near, language, to, replies, filters, exclude, max_retries, instance)\u001b[0m\n\u001b[1;32m    782\u001b[0m \u001b[38;5;28;01mif\u001b[39;00m soup \u001b[38;5;129;01mis\u001b[39;00m \u001b[38;5;28;01mNone\u001b[39;00m:\n\u001b[1;32m    783\u001b[0m     \u001b[38;5;28;01mreturn\u001b[39;00m tweets\n\u001b[0;32m--> 785\u001b[0m is_encrypted \u001b[38;5;241m=\u001b[39m \u001b[38;5;28;43mself\u001b[39;49m\u001b[38;5;241;43m.\u001b[39;49m\u001b[43m_is_instance_encrypted\u001b[49m\u001b[43m(\u001b[49m\u001b[43m)\u001b[49m\n\u001b[1;32m    787\u001b[0m already_scraped \u001b[38;5;241m=\u001b[39m \u001b[38;5;28mset\u001b[39m()\n\u001b[1;32m    789\u001b[0m number \u001b[38;5;241m=\u001b[39m \u001b[38;5;28mfloat\u001b[39m(\u001b[38;5;124m\"\u001b[39m\u001b[38;5;124minf\u001b[39m\u001b[38;5;124m\"\u001b[39m) \u001b[38;5;28;01mif\u001b[39;00m number \u001b[38;5;241m==\u001b[39m \u001b[38;5;241m-\u001b[39m\u001b[38;5;241m1\u001b[39m \u001b[38;5;28;01melse\u001b[39;00m number\n",
            "File \u001b[0;32m~/opt/anaconda3/envs/rag/lib/python3.10/site-packages/ntscraper/nitter.py:116\u001b[0m, in \u001b[0;36mNitter._is_instance_encrypted\u001b[0;34m(self)\u001b[0m\n\u001b[1;32m    113\u001b[0m soup \u001b[38;5;241m=\u001b[39m \u001b[38;5;28mself\u001b[39m\u001b[38;5;241m.\u001b[39m_get_page(\u001b[38;5;124m\"\u001b[39m\u001b[38;5;124m/x\u001b[39m\u001b[38;5;124m\"\u001b[39m)\n\u001b[1;32m    115\u001b[0m \u001b[38;5;28;01mif\u001b[39;00m soup \u001b[38;5;129;01mis\u001b[39;00m \u001b[38;5;28;01mNone\u001b[39;00m:\n\u001b[0;32m--> 116\u001b[0m     \u001b[38;5;28;01mraise\u001b[39;00m \u001b[38;5;167;01mValueError\u001b[39;00m(\u001b[38;5;124m\"\u001b[39m\u001b[38;5;124mInvalid instance\u001b[39m\u001b[38;5;124m\"\u001b[39m)\n\u001b[1;32m    118\u001b[0m \u001b[38;5;28;01mif\u001b[39;00m (\n\u001b[1;32m    119\u001b[0m     soup\u001b[38;5;241m.\u001b[39mfind(\u001b[38;5;124m\"\u001b[39m\u001b[38;5;124ma\u001b[39m\u001b[38;5;124m\"\u001b[39m, class_\u001b[38;5;241m=\u001b[39m\u001b[38;5;124m\"\u001b[39m\u001b[38;5;124mprofile-card-avatar\u001b[39m\u001b[38;5;124m\"\u001b[39m)\u001b[38;5;241m.\u001b[39mfind(\u001b[38;5;124m\"\u001b[39m\u001b[38;5;124mimg\u001b[39m\u001b[38;5;124m\"\u001b[39m)\n\u001b[1;32m    120\u001b[0m     \u001b[38;5;129;01mand\u001b[39;00m \u001b[38;5;124m\"\u001b[39m\u001b[38;5;124m/enc/\u001b[39m\u001b[38;5;124m\"\u001b[39m\n\u001b[1;32m    121\u001b[0m     \u001b[38;5;129;01min\u001b[39;00m soup\u001b[38;5;241m.\u001b[39mfind(\u001b[38;5;124m\"\u001b[39m\u001b[38;5;124ma\u001b[39m\u001b[38;5;124m\"\u001b[39m, class_\u001b[38;5;241m=\u001b[39m\u001b[38;5;124m\"\u001b[39m\u001b[38;5;124mprofile-card-avatar\u001b[39m\u001b[38;5;124m\"\u001b[39m)\u001b[38;5;241m.\u001b[39mfind(\u001b[38;5;124m\"\u001b[39m\u001b[38;5;124mimg\u001b[39m\u001b[38;5;124m\"\u001b[39m)[\u001b[38;5;124m\"\u001b[39m\u001b[38;5;124msrc\u001b[39m\u001b[38;5;124m\"\u001b[39m]\n\u001b[1;32m    122\u001b[0m ):\n\u001b[1;32m    123\u001b[0m     \u001b[38;5;28;01mreturn\u001b[39;00m \u001b[38;5;28;01mTrue\u001b[39;00m\n",
            "\u001b[0;31mValueError\u001b[0m: Invalid instance"
          ]
        }
      ],
      "source": [
        "data = getTweets('mpox', 'term', 25)\n",
        "print(data)"
      ]
    },
    {
      "cell_type": "code",
      "execution_count": 115,
      "metadata": {},
      "outputs": [],
      "source": [
        "# Function to read existing JSON data (if any)\n",
        "def read_existing_json(file_path):\n",
        "    if os.path.exists(file_path):\n",
        "        with open(file_path, 'r') as file:\n",
        "            try:\n",
        "                data = json.load(file)\n",
        "                return data\n",
        "            except json.JSONDecodeError:\n",
        "                return {}\n",
        "    else:\n",
        "        return {}\n",
        "\n",
        "# Function to append data to JSON without duplicates\n",
        "def append_to_json(new_data, file_path):\n",
        "    existing_data = read_existing_json(file_path)\n",
        "    \n",
        "    # Create a set of existing tweet links (to identify duplicates)\n",
        "    existing_links = {tweet['link'] for tweet in existing_data.values()}\n",
        "    \n",
        "    # Append only new tweets (those not already in the existing JSON file)\n",
        "    for i, tweet in enumerate(new_data):\n",
        "        if tweet['link'] not in existing_links:\n",
        "            existing_data[str(len(existing_data))] = tweet  # Use str(len) as the new index for appending\n",
        "    \n",
        "    # Write the updated data back to the JSON file\n",
        "    with open(file_path, 'w') as file:\n",
        "        json.dump(existing_data, file, indent=4)\n",
        "    \n",
        "    print(\"Data appended to JSON file successfully!\")"
      ]
    },
    {
      "cell_type": "code",
      "execution_count": null,
      "metadata": {},
      "outputs": [],
      "source": [
        "df = pd.DataFrame(data[['link', 'date', 'text']])\n",
        "tweets_dict = df.to_dict(orient='records')\n",
        "append_to_json(tweets_dict, 'tweets_filtered.json')\n",
        "tweets_dict"
      ]
    },
    {
      "cell_type": "code",
      "execution_count": 123,
      "metadata": {},
      "outputs": [],
      "source": [
        "def upload_to_firebase(data):\n",
        "    collection_ref = db.collection('tweets')\n",
        "\n",
        "    #records = data.to_dict(orient='records')\n",
        "    \n",
        "    for tweet in data:\n",
        "        tweet_link = tweet[\"link\"]\n",
        "        existing_tweets = collection_ref.where('link', '==', tweet_link).stream()\n",
        "        if not any(existing_tweets):\n",
        "            doc_ref = collection_ref.document() \n",
        "            doc_ref.set(tweet)\n",
        "            print(f\"Uploaded tweet with ID {tweet_link}\")\n",
        "        else:\n",
        "            print(f\"Duplicate tweet with ID {tweet_link} skipped.\")\n",
        "    print(\"Data uploaded to Firebase successfully!\")"
      ]
    },
    {
      "cell_type": "code",
      "execution_count": null,
      "metadata": {},
      "outputs": [],
      "source": [
        "upload_to_firebase(tweets_dict)"
      ]
    }
  ],
  "metadata": {
    "kernelspec": {
      "display_name": "Python 3",
      "language": "python",
      "name": "python3"
    },
    "language_info": {
      "codemirror_mode": {
        "name": "ipython",
        "version": 3
      },
      "file_extension": ".py",
      "mimetype": "text/x-python",
      "name": "python",
      "nbconvert_exporter": "python",
      "pygments_lexer": "ipython3",
      "version": "3.10.4"
    }
  },
  "nbformat": 4,
  "nbformat_minor": 2
}
