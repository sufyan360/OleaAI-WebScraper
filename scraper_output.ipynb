{
 "cells": [
  {
   "cell_type": "markdown",
   "id": "0466b43b",
   "metadata": {
    "tags": [
     "papermill-error-cell-tag"
    ]
   },
   "source": [
    "<span style=\"color:red; font-family:Helvetica Neue, Helvetica, Arial, sans-serif; font-size:2em;\">An Exception was encountered at '<a href=\"#papermill-error-cell\">In [5]</a>'.</span>"
   ]
  },
  {
   "cell_type": "code",
   "execution_count": 1,
   "id": "43c2ca2c",
   "metadata": {
    "execution": {
     "iopub.execute_input": "2024-10-03T16:48:56.413214Z",
     "iopub.status.busy": "2024-10-03T16:48:56.412794Z",
     "iopub.status.idle": "2024-10-03T16:49:01.630338Z",
     "shell.execute_reply": "2024-10-03T16:49:01.629782Z"
    },
    "papermill": {
     "duration": 5.22769,
     "end_time": "2024-10-03T16:49:01.631786",
     "exception": false,
     "start_time": "2024-10-03T16:48:56.404096",
     "status": "completed"
    },
    "tags": []
   },
   "outputs": [
    {
     "name": "stdout",
     "output_type": "stream",
     "text": [
      "Collecting pandas\r\n",
      "  Using cached pandas-2.2.3-cp312-cp312-macosx_11_0_arm64.whl.metadata (89 kB)\r\n"
     ]
    },
    {
     "name": "stdout",
     "output_type": "stream",
     "text": [
      "Requirement already satisfied: requests in /Users/sufyan/miniconda3/lib/python3.12/site-packages (2.32.3)\r\n"
     ]
    },
    {
     "name": "stdout",
     "output_type": "stream",
     "text": [
      "Collecting numpy>=1.26.0 (from pandas)\r\n",
      "  Using cached numpy-2.1.1-cp312-cp312-macosx_14_0_arm64.whl.metadata (60 kB)\r\n",
      "Requirement already satisfied: python-dateutil>=2.8.2 in /Users/sufyan/miniconda3/lib/python3.12/site-packages (from pandas) (2.9.0.post0)\r\n"
     ]
    },
    {
     "name": "stdout",
     "output_type": "stream",
     "text": [
      "Collecting pytz>=2020.1 (from pandas)\r\n",
      "  Using cached pytz-2024.2-py2.py3-none-any.whl.metadata (22 kB)\r\n"
     ]
    },
    {
     "name": "stdout",
     "output_type": "stream",
     "text": [
      "Collecting tzdata>=2022.7 (from pandas)\r\n"
     ]
    },
    {
     "name": "stdout",
     "output_type": "stream",
     "text": [
      "  Downloading tzdata-2024.2-py2.py3-none-any.whl.metadata (1.4 kB)\r\n",
      "Requirement already satisfied: charset-normalizer<4,>=2 in /Users/sufyan/miniconda3/lib/python3.12/site-packages (from requests) (3.3.2)\r\n",
      "Requirement already satisfied: idna<4,>=2.5 in /Users/sufyan/miniconda3/lib/python3.12/site-packages (from requests) (3.7)\r\n",
      "Requirement already satisfied: urllib3<3,>=1.21.1 in /Users/sufyan/miniconda3/lib/python3.12/site-packages (from requests) (2.2.2)\r\n",
      "Requirement already satisfied: certifi>=2017.4.17 in /Users/sufyan/miniconda3/lib/python3.12/site-packages (from requests) (2024.7.4)\r\n",
      "Requirement already satisfied: six>=1.5 in /Users/sufyan/miniconda3/lib/python3.12/site-packages (from python-dateutil>=2.8.2->pandas) (1.16.0)\r\n",
      "Using cached pandas-2.2.3-cp312-cp312-macosx_11_0_arm64.whl (11.4 MB)\r\n",
      "Using cached numpy-2.1.1-cp312-cp312-macosx_14_0_arm64.whl (5.1 MB)\r\n"
     ]
    },
    {
     "name": "stdout",
     "output_type": "stream",
     "text": [
      "Using cached pytz-2024.2-py2.py3-none-any.whl (508 kB)\r\n",
      "Downloading tzdata-2024.2-py2.py3-none-any.whl (346 kB)\r\n"
     ]
    },
    {
     "name": "stdout",
     "output_type": "stream",
     "text": [
      "Installing collected packages: pytz, tzdata, numpy, pandas\r\n"
     ]
    },
    {
     "name": "stdout",
     "output_type": "stream",
     "text": [
      "Successfully installed numpy-2.1.1 pandas-2.2.3 pytz-2024.2 tzdata-2024.2\r\n"
     ]
    }
   ],
   "source": [
    "!pip install pandas requests"
   ]
  },
  {
   "cell_type": "code",
   "execution_count": 2,
   "id": "d808d8ad",
   "metadata": {
    "execution": {
     "iopub.execute_input": "2024-10-03T16:49:01.638885Z",
     "iopub.status.busy": "2024-10-03T16:49:01.638673Z",
     "iopub.status.idle": "2024-10-03T16:49:02.488818Z",
     "shell.execute_reply": "2024-10-03T16:49:02.488289Z"
    },
    "papermill": {
     "duration": 0.854015,
     "end_time": "2024-10-03T16:49:02.489924",
     "exception": false,
     "start_time": "2024-10-03T16:49:01.635909",
     "status": "completed"
    },
    "tags": []
   },
   "outputs": [
    {
     "name": "stdout",
     "output_type": "stream",
     "text": [
      "Collecting ntscraper\r\n",
      "  Using cached ntscraper-0.3.17-py3-none-any.whl.metadata (7.4 kB)\r\n",
      "Requirement already satisfied: requests>=2.28 in /Users/sufyan/miniconda3/lib/python3.12/site-packages (from ntscraper) (2.32.3)\r\n",
      "Requirement already satisfied: beautifulsoup4>=4.11 in /Users/sufyan/miniconda3/lib/python3.12/site-packages (from ntscraper) (4.12.3)\r\n",
      "Requirement already satisfied: lxml>=4.9 in /Users/sufyan/miniconda3/lib/python3.12/site-packages (from ntscraper) (5.3.0)\r\n",
      "Requirement already satisfied: tqdm>=4.66 in /Users/sufyan/miniconda3/lib/python3.12/site-packages (from ntscraper) (4.66.4)\r\n",
      "Requirement already satisfied: soupsieve>1.2 in /Users/sufyan/miniconda3/lib/python3.12/site-packages (from beautifulsoup4>=4.11->ntscraper) (2.6)\r\n",
      "Requirement already satisfied: charset-normalizer<4,>=2 in /Users/sufyan/miniconda3/lib/python3.12/site-packages (from requests>=2.28->ntscraper) (3.3.2)\r\n",
      "Requirement already satisfied: idna<4,>=2.5 in /Users/sufyan/miniconda3/lib/python3.12/site-packages (from requests>=2.28->ntscraper) (3.7)\r\n",
      "Requirement already satisfied: urllib3<3,>=1.21.1 in /Users/sufyan/miniconda3/lib/python3.12/site-packages (from requests>=2.28->ntscraper) (2.2.2)\r\n",
      "Requirement already satisfied: certifi>=2017.4.17 in /Users/sufyan/miniconda3/lib/python3.12/site-packages (from requests>=2.28->ntscraper) (2024.7.4)\r\n",
      "Using cached ntscraper-0.3.17-py3-none-any.whl (12 kB)\r\n"
     ]
    },
    {
     "name": "stdout",
     "output_type": "stream",
     "text": [
      "Installing collected packages: ntscraper\r\n",
      "Successfully installed ntscraper-0.3.17\r\n"
     ]
    },
    {
     "name": "stdout",
     "output_type": "stream",
     "text": [
      "Note: you may need to restart the kernel to use updated packages.\n"
     ]
    }
   ],
   "source": [
    "pip install ntscraper"
   ]
  },
  {
   "cell_type": "code",
   "execution_count": 3,
   "id": "180bb60a",
   "metadata": {
    "execution": {
     "iopub.execute_input": "2024-10-03T16:49:02.496135Z",
     "iopub.status.busy": "2024-10-03T16:49:02.495941Z",
     "iopub.status.idle": "2024-10-03T16:49:07.661762Z",
     "shell.execute_reply": "2024-10-03T16:49:07.661175Z"
    },
    "papermill": {
     "duration": 5.170398,
     "end_time": "2024-10-03T16:49:07.663412",
     "exception": false,
     "start_time": "2024-10-03T16:49:02.493014",
     "status": "completed"
    },
    "tags": []
   },
   "outputs": [
    {
     "name": "stdout",
     "output_type": "stream",
     "text": [
      "Collecting firebase-admin\r\n",
      "  Using cached firebase_admin-6.5.0-py3-none-any.whl.metadata (1.5 kB)\r\n"
     ]
    },
    {
     "name": "stdout",
     "output_type": "stream",
     "text": [
      "Collecting cachecontrol>=0.12.6 (from firebase-admin)\r\n",
      "  Using cached cachecontrol-0.14.0-py3-none-any.whl.metadata (3.1 kB)\r\n"
     ]
    },
    {
     "name": "stdout",
     "output_type": "stream",
     "text": [
      "Collecting google-api-python-client>=1.7.8 (from firebase-admin)\r\n"
     ]
    },
    {
     "name": "stdout",
     "output_type": "stream",
     "text": [
      "  Downloading google_api_python_client-2.147.0-py2.py3-none-any.whl.metadata (6.7 kB)\r\n"
     ]
    },
    {
     "name": "stdout",
     "output_type": "stream",
     "text": [
      "Collecting google-cloud-storage>=1.37.1 (from firebase-admin)\r\n"
     ]
    },
    {
     "name": "stdout",
     "output_type": "stream",
     "text": [
      "  Using cached google_cloud_storage-2.18.2-py2.py3-none-any.whl.metadata (9.1 kB)\r\n",
      "Collecting pyjwt>=2.5.0 (from pyjwt[crypto]>=2.5.0->firebase-admin)\r\n",
      "  Using cached PyJWT-2.9.0-py3-none-any.whl.metadata (3.0 kB)\r\n"
     ]
    },
    {
     "name": "stdout",
     "output_type": "stream",
     "text": [
      "Collecting google-api-core<3.0.0dev,>=1.22.1 (from google-api-core[grpc]<3.0.0dev,>=1.22.1; platform_python_implementation != \"PyPy\"->firebase-admin)\r\n",
      "  Using cached google_api_core-2.20.0-py3-none-any.whl.metadata (2.7 kB)\r\n",
      "Collecting google-cloud-firestore>=2.9.1 (from firebase-admin)\r\n"
     ]
    },
    {
     "name": "stdout",
     "output_type": "stream",
     "text": [
      "  Downloading google_cloud_firestore-2.19.0-py2.py3-none-any.whl.metadata (5.7 kB)\r\n",
      "Requirement already satisfied: requests>=2.16.0 in /Users/sufyan/miniconda3/lib/python3.12/site-packages (from cachecontrol>=0.12.6->firebase-admin) (2.32.3)\r\n"
     ]
    },
    {
     "name": "stdout",
     "output_type": "stream",
     "text": [
      "Collecting msgpack<2.0.0,>=0.5.2 (from cachecontrol>=0.12.6->firebase-admin)\r\n"
     ]
    },
    {
     "name": "stdout",
     "output_type": "stream",
     "text": [
      "  Downloading msgpack-1.1.0-cp312-cp312-macosx_11_0_arm64.whl.metadata (8.4 kB)\r\n"
     ]
    },
    {
     "name": "stdout",
     "output_type": "stream",
     "text": [
      "Collecting googleapis-common-protos<2.0.dev0,>=1.56.2 (from google-api-core<3.0.0dev,>=1.22.1->google-api-core[grpc]<3.0.0dev,>=1.22.1; platform_python_implementation != \"PyPy\"->firebase-admin)\r\n",
      "  Downloading googleapis_common_protos-1.65.0-py2.py3-none-any.whl.metadata (1.5 kB)\r\n"
     ]
    },
    {
     "name": "stdout",
     "output_type": "stream",
     "text": [
      "Collecting protobuf!=3.20.0,!=3.20.1,!=4.21.0,!=4.21.1,!=4.21.2,!=4.21.3,!=4.21.4,!=4.21.5,<6.0.0.dev0,>=3.19.5 (from google-api-core<3.0.0dev,>=1.22.1->google-api-core[grpc]<3.0.0dev,>=1.22.1; platform_python_implementation != \"PyPy\"->firebase-admin)\r\n",
      "  Using cached protobuf-5.28.2-cp38-abi3-macosx_10_9_universal2.whl.metadata (592 bytes)\r\n"
     ]
    },
    {
     "name": "stdout",
     "output_type": "stream",
     "text": [
      "Collecting proto-plus<2.0.0dev,>=1.22.3 (from google-api-core<3.0.0dev,>=1.22.1->google-api-core[grpc]<3.0.0dev,>=1.22.1; platform_python_implementation != \"PyPy\"->firebase-admin)\r\n",
      "  Using cached proto_plus-1.24.0-py3-none-any.whl.metadata (2.2 kB)\r\n"
     ]
    },
    {
     "name": "stdout",
     "output_type": "stream",
     "text": [
      "Collecting google-auth<3.0.dev0,>=2.14.1 (from google-api-core<3.0.0dev,>=1.22.1->google-api-core[grpc]<3.0.0dev,>=1.22.1; platform_python_implementation != \"PyPy\"->firebase-admin)\r\n",
      "  Using cached google_auth-2.35.0-py2.py3-none-any.whl.metadata (4.7 kB)\r\n"
     ]
    },
    {
     "name": "stdout",
     "output_type": "stream",
     "text": [
      "Collecting grpcio<2.0dev,>=1.33.2 (from google-api-core[grpc]<3.0.0dev,>=1.22.1; platform_python_implementation != \"PyPy\"->firebase-admin)\r\n",
      "  Downloading grpcio-1.66.2-cp312-cp312-macosx_10_9_universal2.whl.metadata (3.9 kB)\r\n"
     ]
    },
    {
     "name": "stdout",
     "output_type": "stream",
     "text": [
      "Collecting grpcio-status<2.0.dev0,>=1.33.2 (from google-api-core[grpc]<3.0.0dev,>=1.22.1; platform_python_implementation != \"PyPy\"->firebase-admin)\r\n"
     ]
    },
    {
     "name": "stdout",
     "output_type": "stream",
     "text": [
      "  Downloading grpcio_status-1.66.2-py3-none-any.whl.metadata (1.1 kB)\r\n"
     ]
    },
    {
     "name": "stdout",
     "output_type": "stream",
     "text": [
      "Collecting httplib2<1.dev0,>=0.19.0 (from google-api-python-client>=1.7.8->firebase-admin)\r\n",
      "  Using cached httplib2-0.22.0-py3-none-any.whl.metadata (2.6 kB)\r\n",
      "Collecting google-auth-httplib2<1.0.0,>=0.2.0 (from google-api-python-client>=1.7.8->firebase-admin)\r\n",
      "  Using cached google_auth_httplib2-0.2.0-py2.py3-none-any.whl.metadata (2.2 kB)\r\n"
     ]
    },
    {
     "name": "stdout",
     "output_type": "stream",
     "text": [
      "Collecting uritemplate<5,>=3.0.1 (from google-api-python-client>=1.7.8->firebase-admin)\r\n",
      "  Using cached uritemplate-4.1.1-py2.py3-none-any.whl.metadata (2.9 kB)\r\n"
     ]
    },
    {
     "name": "stdout",
     "output_type": "stream",
     "text": [
      "Collecting google-cloud-core<3.0.0dev,>=1.4.1 (from google-cloud-firestore>=2.9.1->firebase-admin)\r\n",
      "  Using cached google_cloud_core-2.4.1-py2.py3-none-any.whl.metadata (2.7 kB)\r\n"
     ]
    },
    {
     "name": "stdout",
     "output_type": "stream",
     "text": [
      "Collecting google-resumable-media>=2.7.2 (from google-cloud-storage>=1.37.1->firebase-admin)\r\n",
      "  Using cached google_resumable_media-2.7.2-py2.py3-none-any.whl.metadata (2.2 kB)\r\n"
     ]
    },
    {
     "name": "stdout",
     "output_type": "stream",
     "text": [
      "Collecting google-crc32c<2.0dev,>=1.0 (from google-cloud-storage>=1.37.1->firebase-admin)\r\n",
      "  Downloading google_crc32c-1.6.0-cp312-cp312-macosx_12_0_arm64.whl.metadata (2.3 kB)\r\n",
      "Requirement already satisfied: cryptography>=3.4.0 in /Users/sufyan/miniconda3/lib/python3.12/site-packages (from pyjwt[crypto]>=2.5.0->firebase-admin) (42.0.5)\r\n"
     ]
    },
    {
     "name": "stdout",
     "output_type": "stream",
     "text": [
      "Requirement already satisfied: cffi>=1.12 in /Users/sufyan/miniconda3/lib/python3.12/site-packages (from cryptography>=3.4.0->pyjwt[crypto]>=2.5.0->firebase-admin) (1.16.0)\r\n",
      "Collecting cachetools<6.0,>=2.0.0 (from google-auth<3.0.dev0,>=2.14.1->google-api-core<3.0.0dev,>=1.22.1->google-api-core[grpc]<3.0.0dev,>=1.22.1; platform_python_implementation != \"PyPy\"->firebase-admin)\r\n",
      "  Using cached cachetools-5.5.0-py3-none-any.whl.metadata (5.3 kB)\r\n"
     ]
    },
    {
     "name": "stdout",
     "output_type": "stream",
     "text": [
      "Collecting pyasn1-modules>=0.2.1 (from google-auth<3.0.dev0,>=2.14.1->google-api-core<3.0.0dev,>=1.22.1->google-api-core[grpc]<3.0.0dev,>=1.22.1; platform_python_implementation != \"PyPy\"->firebase-admin)\r\n",
      "  Using cached pyasn1_modules-0.4.1-py3-none-any.whl.metadata (3.5 kB)\r\n",
      "Collecting rsa<5,>=3.1.4 (from google-auth<3.0.dev0,>=2.14.1->google-api-core<3.0.0dev,>=1.22.1->google-api-core[grpc]<3.0.0dev,>=1.22.1; platform_python_implementation != \"PyPy\"->firebase-admin)\r\n",
      "  Using cached rsa-4.9-py3-none-any.whl.metadata (4.2 kB)\r\n"
     ]
    },
    {
     "name": "stdout",
     "output_type": "stream",
     "text": [
      "Collecting pyparsing!=3.0.0,!=3.0.1,!=3.0.2,!=3.0.3,<4,>=2.4.2 (from httplib2<1.dev0,>=0.19.0->google-api-python-client>=1.7.8->firebase-admin)\r\n",
      "  Using cached pyparsing-3.1.4-py3-none-any.whl.metadata (5.1 kB)\r\n"
     ]
    },
    {
     "name": "stdout",
     "output_type": "stream",
     "text": [
      "Requirement already satisfied: charset-normalizer<4,>=2 in /Users/sufyan/miniconda3/lib/python3.12/site-packages (from requests>=2.16.0->cachecontrol>=0.12.6->firebase-admin) (3.3.2)\r\n",
      "Requirement already satisfied: idna<4,>=2.5 in /Users/sufyan/miniconda3/lib/python3.12/site-packages (from requests>=2.16.0->cachecontrol>=0.12.6->firebase-admin) (3.7)\r\n",
      "Requirement already satisfied: urllib3<3,>=1.21.1 in /Users/sufyan/miniconda3/lib/python3.12/site-packages (from requests>=2.16.0->cachecontrol>=0.12.6->firebase-admin) (2.2.2)\r\n",
      "Requirement already satisfied: certifi>=2017.4.17 in /Users/sufyan/miniconda3/lib/python3.12/site-packages (from requests>=2.16.0->cachecontrol>=0.12.6->firebase-admin) (2024.7.4)\r\n",
      "Requirement already satisfied: pycparser in /Users/sufyan/miniconda3/lib/python3.12/site-packages (from cffi>=1.12->cryptography>=3.4.0->pyjwt[crypto]>=2.5.0->firebase-admin) (2.21)\r\n",
      "Collecting pyasn1<0.7.0,>=0.4.6 (from pyasn1-modules>=0.2.1->google-auth<3.0.dev0,>=2.14.1->google-api-core<3.0.0dev,>=1.22.1->google-api-core[grpc]<3.0.0dev,>=1.22.1; platform_python_implementation != \"PyPy\"->firebase-admin)\r\n",
      "  Using cached pyasn1-0.6.1-py3-none-any.whl.metadata (8.4 kB)\r\n"
     ]
    },
    {
     "name": "stdout",
     "output_type": "stream",
     "text": [
      "Using cached firebase_admin-6.5.0-py3-none-any.whl (126 kB)\r\n",
      "Using cached cachecontrol-0.14.0-py3-none-any.whl (22 kB)\r\n",
      "Using cached google_api_core-2.20.0-py3-none-any.whl (142 kB)\r\n",
      "Downloading google_api_python_client-2.147.0-py2.py3-none-any.whl (12.2 MB)\r\n",
      "\u001b[?25l   \u001b[90m━━━━━━━━━━━━━━━━━━━━━━━━━━━━━━━━━━━━━━━━\u001b[0m \u001b[32m0.0/12.2 MB\u001b[0m \u001b[31m?\u001b[0m eta \u001b[36m-:--:--\u001b[0m"
     ]
    },
    {
     "name": "stdout",
     "output_type": "stream",
     "text": [
      "\r",
      "\u001b[2K   \u001b[91m━━━━━━━━━━\u001b[0m\u001b[90m╺\u001b[0m\u001b[90m━━━━━━━━━━━━━━━━━━━━━━━━━━━━━\u001b[0m \u001b[32m3.1/12.2 MB\u001b[0m \u001b[31m20.0 MB/s\u001b[0m eta \u001b[36m0:00:01\u001b[0m"
     ]
    },
    {
     "name": "stdout",
     "output_type": "stream",
     "text": [
      "\r",
      "\u001b[2K   \u001b[91m━━━━━━━━━━━━━━━━━━━━━━━━━\u001b[0m\u001b[91m╸\u001b[0m\u001b[90m━━━━━━━━━━━━━━\u001b[0m \u001b[32m7.9/12.2 MB\u001b[0m \u001b[31m22.0 MB/s\u001b[0m eta \u001b[36m0:00:01\u001b[0m"
     ]
    },
    {
     "name": "stdout",
     "output_type": "stream",
     "text": [
      "\r",
      "\u001b[2K   \u001b[90m━━━━━━━━━━━━━━━━━━━━━━━━━━━━━━━━━━━━━━━━\u001b[0m \u001b[32m12.2/12.2 MB\u001b[0m \u001b[31m22.8 MB/s\u001b[0m eta \u001b[36m0:00:00\u001b[0m\r\n",
      "\u001b[?25hDownloading google_cloud_firestore-2.19.0-py2.py3-none-any.whl (336 kB)\r\n"
     ]
    },
    {
     "name": "stdout",
     "output_type": "stream",
     "text": [
      "Using cached google_cloud_storage-2.18.2-py2.py3-none-any.whl (130 kB)\r\n",
      "Using cached PyJWT-2.9.0-py3-none-any.whl (22 kB)\r\n",
      "Using cached google_auth-2.35.0-py2.py3-none-any.whl (208 kB)\r\n",
      "Using cached google_auth_httplib2-0.2.0-py2.py3-none-any.whl (9.3 kB)\r\n",
      "Using cached google_cloud_core-2.4.1-py2.py3-none-any.whl (29 kB)\r\n",
      "Downloading google_crc32c-1.6.0-cp312-cp312-macosx_12_0_arm64.whl (30 kB)\r\n"
     ]
    },
    {
     "name": "stdout",
     "output_type": "stream",
     "text": [
      "Using cached google_resumable_media-2.7.2-py2.py3-none-any.whl (81 kB)\r\n",
      "Downloading googleapis_common_protos-1.65.0-py2.py3-none-any.whl (220 kB)\r\n"
     ]
    },
    {
     "name": "stdout",
     "output_type": "stream",
     "text": [
      "Downloading grpcio-1.66.2-cp312-cp312-macosx_10_9_universal2.whl (10.8 MB)\r\n",
      "\u001b[?25l   \u001b[90m━━━━━━━━━━━━━━━━━━━━━━━━━━━━━━━━━━━━━━━━\u001b[0m \u001b[32m0.0/10.8 MB\u001b[0m \u001b[31m?\u001b[0m eta \u001b[36m-:--:--\u001b[0m"
     ]
    },
    {
     "name": "stdout",
     "output_type": "stream",
     "text": [
      "\r",
      "\u001b[2K   \u001b[91m━━━━━━━━━━━━━━━━━━\u001b[0m\u001b[90m╺\u001b[0m\u001b[90m━━━━━━━━━━━━━━━━━━━━━\u001b[0m \u001b[32m5.0/10.8 MB\u001b[0m \u001b[31m24.6 MB/s\u001b[0m eta \u001b[36m0:00:01\u001b[0m"
     ]
    },
    {
     "name": "stdout",
     "output_type": "stream",
     "text": [
      "\r",
      "\u001b[2K   \u001b[91m━━━━━━━━━━━━━━━━━━━━━━━━━━━━━━━━━━━━━━━\u001b[0m\u001b[91m╸\u001b[0m \u001b[32m10.7/10.8 MB\u001b[0m \u001b[31m25.9 MB/s\u001b[0m eta \u001b[36m0:00:01\u001b[0m"
     ]
    },
    {
     "name": "stdout",
     "output_type": "stream",
     "text": [
      "\r",
      "\u001b[2K   \u001b[90m━━━━━━━━━━━━━━━━━━━━━━━━━━━━━━━━━━━━━━━━\u001b[0m \u001b[32m10.8/10.8 MB\u001b[0m \u001b[31m24.2 MB/s\u001b[0m eta \u001b[36m0:00:00\u001b[0m\r\n",
      "\u001b[?25hDownloading grpcio_status-1.66.2-py3-none-any.whl (14 kB)\r\n"
     ]
    },
    {
     "name": "stdout",
     "output_type": "stream",
     "text": [
      "Using cached httplib2-0.22.0-py3-none-any.whl (96 kB)\r\n",
      "Downloading msgpack-1.1.0-cp312-cp312-macosx_11_0_arm64.whl (82 kB)\r\n",
      "Using cached proto_plus-1.24.0-py3-none-any.whl (50 kB)\r\n",
      "Using cached protobuf-5.28.2-cp38-abi3-macosx_10_9_universal2.whl (414 kB)\r\n"
     ]
    },
    {
     "name": "stdout",
     "output_type": "stream",
     "text": [
      "Using cached uritemplate-4.1.1-py2.py3-none-any.whl (10 kB)\r\n",
      "Using cached cachetools-5.5.0-py3-none-any.whl (9.5 kB)\r\n",
      "Using cached pyasn1_modules-0.4.1-py3-none-any.whl (181 kB)\r\n",
      "Using cached pyparsing-3.1.4-py3-none-any.whl (104 kB)\r\n",
      "Using cached rsa-4.9-py3-none-any.whl (34 kB)\r\n",
      "Using cached pyasn1-0.6.1-py3-none-any.whl (83 kB)\r\n"
     ]
    },
    {
     "name": "stdout",
     "output_type": "stream",
     "text": [
      "Installing collected packages: uritemplate, pyparsing, pyjwt, pyasn1, protobuf, msgpack, grpcio, google-crc32c, cachetools, rsa, pyasn1-modules, proto-plus, httplib2, googleapis-common-protos, google-resumable-media, cachecontrol, grpcio-status, google-auth, google-auth-httplib2, google-api-core, google-cloud-core, google-api-python-client, google-cloud-storage, google-cloud-firestore, firebase-admin\r\n"
     ]
    },
    {
     "name": "stdout",
     "output_type": "stream",
     "text": [
      "Successfully installed cachecontrol-0.14.0 cachetools-5.5.0 firebase-admin-6.5.0 google-api-core-2.20.0 google-api-python-client-2.147.0 google-auth-2.35.0 google-auth-httplib2-0.2.0 google-cloud-core-2.4.1 google-cloud-firestore-2.19.0 google-cloud-storage-2.18.2 google-crc32c-1.6.0 google-resumable-media-2.7.2 googleapis-common-protos-1.65.0 grpcio-1.66.2 grpcio-status-1.66.2 httplib2-0.22.0 msgpack-1.1.0 proto-plus-1.24.0 protobuf-5.28.2 pyasn1-0.6.1 pyasn1-modules-0.4.1 pyjwt-2.9.0 pyparsing-3.1.4 rsa-4.9 uritemplate-4.1.1\r\n"
     ]
    }
   ],
   "source": [
    "!pip install firebase-admin\n"
   ]
  },
  {
   "cell_type": "code",
   "execution_count": 4,
   "id": "44d85832",
   "metadata": {
    "execution": {
     "iopub.execute_input": "2024-10-03T16:49:07.673272Z",
     "iopub.status.busy": "2024-10-03T16:49:07.673079Z",
     "iopub.status.idle": "2024-10-03T16:49:08.310443Z",
     "shell.execute_reply": "2024-10-03T16:49:08.309897Z"
    },
    "papermill": {
     "duration": 0.642974,
     "end_time": "2024-10-03T16:49:08.311588",
     "exception": false,
     "start_time": "2024-10-03T16:49:07.668614",
     "status": "completed"
    },
    "tags": []
   },
   "outputs": [
    {
     "name": "stdout",
     "output_type": "stream",
     "text": [
      "Requirement already satisfied: beautifulsoup4 in /Users/sufyan/miniconda3/lib/python3.12/site-packages (4.12.3)\r\n",
      "Requirement already satisfied: soupsieve>1.2 in /Users/sufyan/miniconda3/lib/python3.12/site-packages (from beautifulsoup4) (2.6)\r\n"
     ]
    },
    {
     "name": "stdout",
     "output_type": "stream",
     "text": [
      "Note: you may need to restart the kernel to use updated packages.\n"
     ]
    }
   ],
   "source": [
    "pip install beautifulsoup4"
   ]
  },
  {
   "cell_type": "markdown",
   "id": "b12c9dd3",
   "metadata": {
    "tags": [
     "papermill-error-cell-tag"
    ]
   },
   "source": [
    "<span id=\"papermill-error-cell\" style=\"color:red; font-family:Helvetica Neue, Helvetica, Arial, sans-serif; font-size:2em;\">Execution using papermill encountered an exception here and stopped:</span>"
   ]
  },
  {
   "cell_type": "code",
   "execution_count": 5,
   "id": "8058a28b",
   "metadata": {
    "execution": {
     "iopub.execute_input": "2024-10-03T16:49:08.320826Z",
     "iopub.status.busy": "2024-10-03T16:49:08.320623Z",
     "iopub.status.idle": "2024-10-03T16:49:17.308663Z",
     "shell.execute_reply": "2024-10-03T16:49:17.308263Z"
    },
    "papermill": {
     "duration": 8.993045,
     "end_time": "2024-10-03T16:49:17.309320",
     "exception": true,
     "start_time": "2024-10-03T16:49:08.316275",
     "status": "failed"
    },
    "tags": []
   },
   "outputs": [
    {
     "ename": "ModuleNotFoundError",
     "evalue": "No module named 'dotenv'",
     "output_type": "error",
     "traceback": [
      "\u001b[0;31m---------------------------------------------------------------------------\u001b[0m",
      "\u001b[0;31mModuleNotFoundError\u001b[0m                       Traceback (most recent call last)",
      "Cell \u001b[0;32mIn[5], line 3\u001b[0m\n\u001b[1;32m      1\u001b[0m \u001b[38;5;28;01mimport\u001b[39;00m \u001b[38;5;21;01mrequests\u001b[39;00m\n\u001b[1;32m      2\u001b[0m \u001b[38;5;28;01mimport\u001b[39;00m \u001b[38;5;21;01mpandas\u001b[39;00m \u001b[38;5;28;01mas\u001b[39;00m \u001b[38;5;21;01mpd\u001b[39;00m\n\u001b[0;32m----> 3\u001b[0m \u001b[38;5;28;01mfrom\u001b[39;00m \u001b[38;5;21;01mdotenv\u001b[39;00m \u001b[38;5;28;01mimport\u001b[39;00m load_dotenv\n\u001b[1;32m      4\u001b[0m load_dotenv()\n\u001b[1;32m      5\u001b[0m \u001b[38;5;28;01mimport\u001b[39;00m \u001b[38;5;21;01mos\u001b[39;00m\n",
      "\u001b[0;31mModuleNotFoundError\u001b[0m: No module named 'dotenv'"
     ]
    }
   ],
   "source": [
    "import requests\n",
    "import pandas as pd\n",
    "from dotenv import load_dotenv\n",
    "load_dotenv()\n",
    "import os\n",
    "import json\n",
    "import firebase_admin\n",
    "from firebase_admin import credentials, firestore, db\n",
    "from bs4 import BeautifulSoup\n",
    "from ntscraper import Nitter"
   ]
  },
  {
   "cell_type": "code",
   "execution_count": null,
   "id": "02975f69",
   "metadata": {
    "papermill": {
     "duration": null,
     "end_time": null,
     "exception": null,
     "start_time": null,
     "status": "pending"
    },
    "tags": []
   },
   "outputs": [],
   "source": [
    "service_account_path = os.getenv('FIREBASE_SERVICE_ACCOUNT_KEY')"
   ]
  },
  {
   "cell_type": "code",
   "execution_count": null,
   "id": "69bd6140",
   "metadata": {
    "papermill": {
     "duration": null,
     "end_time": null,
     "exception": null,
     "start_time": null,
     "status": "pending"
    },
    "tags": []
   },
   "outputs": [],
   "source": [
    "if not firebase_admin._apps:\n",
    "    cred = credentials.Certificate(service_account_path)\n",
    "    firebase_admin.initialize_app(cred)"
   ]
  },
  {
   "cell_type": "code",
   "execution_count": null,
   "id": "df8a2010",
   "metadata": {
    "papermill": {
     "duration": null,
     "end_time": null,
     "exception": null,
     "start_time": null,
     "status": "pending"
    },
    "tags": []
   },
   "outputs": [],
   "source": [
    "db = firestore.client()"
   ]
  },
  {
   "cell_type": "code",
   "execution_count": null,
   "id": "7e551b24",
   "metadata": {
    "papermill": {
     "duration": null,
     "end_time": null,
     "exception": null,
     "start_time": null,
     "status": "pending"
    },
    "tags": []
   },
   "outputs": [],
   "source": [
    "scraper = Nitter()\n",
    "scraper.working_instances = ['https://nitter.net']"
   ]
  },
  {
   "cell_type": "code",
   "execution_count": null,
   "id": "c017b50b",
   "metadata": {
    "papermill": {
     "duration": null,
     "end_time": null,
     "exception": null,
     "start_time": null,
     "status": "pending"
    },
    "tags": []
   },
   "outputs": [],
   "source": [
    "def getTweets(name, modes, num):\n",
    "    total = scraper.get_tweets(name, mode=modes, number=num)\n",
    "    print(total)\n",
    "    \n",
    "    final_tweets = []\n",
    "    if 'tweets' in total:\n",
    "        for tweet in total['tweets']:  # Adjust the key to match actual data\n",
    "            data = [tweet['link'], tweet['text'], tweet['date']]\n",
    "            final_tweets.append(data)\n",
    "        data = pd.DataFrame(final_tweets, columns=['link', 'text', 'date'])\n",
    "        return data\n",
    "    else:\n",
    "        print(\"Key 'tweets' not found in response\")\n",
    "        return None"
   ]
  },
  {
   "cell_type": "code",
   "execution_count": null,
   "id": "9487aff0",
   "metadata": {
    "papermill": {
     "duration": null,
     "end_time": null,
     "exception": null,
     "start_time": null,
     "status": "pending"
    },
    "tags": []
   },
   "outputs": [],
   "source": [
    "data = getTweets('mpox', 'term', 25)\n",
    "print(data)"
   ]
  },
  {
   "cell_type": "code",
   "execution_count": null,
   "id": "8477491f",
   "metadata": {
    "papermill": {
     "duration": null,
     "end_time": null,
     "exception": null,
     "start_time": null,
     "status": "pending"
    },
    "tags": []
   },
   "outputs": [],
   "source": [
    "# Function to read existing JSON data (if any)\n",
    "def read_existing_json(file_path):\n",
    "    if os.path.exists(file_path):\n",
    "        with open(file_path, 'r') as file:\n",
    "            try:\n",
    "                data = json.load(file)\n",
    "                return data\n",
    "            except json.JSONDecodeError:\n",
    "                return {}\n",
    "    else:\n",
    "        return {}\n",
    "\n",
    "# Function to append data to JSON without duplicates\n",
    "def append_to_json(new_data, file_path):\n",
    "    existing_data = read_existing_json(file_path)\n",
    "    \n",
    "    # Create a set of existing tweet links (to identify duplicates)\n",
    "    existing_links = {tweet['link'] for tweet in existing_data.values()}\n",
    "    \n",
    "    # Append only new tweets (those not already in the existing JSON file)\n",
    "    for i, tweet in enumerate(new_data):\n",
    "        if tweet['link'] not in existing_links:\n",
    "            existing_data[str(len(existing_data))] = tweet  # Use str(len) as the new index for appending\n",
    "    \n",
    "    # Write the updated data back to the JSON file\n",
    "    with open(file_path, 'w') as file:\n",
    "        json.dump(existing_data, file, indent=4)\n",
    "    \n",
    "    print(\"Data appended to JSON file successfully!\")"
   ]
  },
  {
   "cell_type": "code",
   "execution_count": null,
   "id": "a8ae448b",
   "metadata": {
    "papermill": {
     "duration": null,
     "end_time": null,
     "exception": null,
     "start_time": null,
     "status": "pending"
    },
    "tags": []
   },
   "outputs": [],
   "source": [
    "df = pd.DataFrame(data[['link', 'date', 'text']])\n",
    "tweets_dict = df.to_dict(orient='records')\n",
    "append_to_json(tweets_dict, 'tweets_filtered.json')\n",
    "tweets_dict"
   ]
  },
  {
   "cell_type": "code",
   "execution_count": null,
   "id": "e6f17648",
   "metadata": {
    "papermill": {
     "duration": null,
     "end_time": null,
     "exception": null,
     "start_time": null,
     "status": "pending"
    },
    "tags": []
   },
   "outputs": [],
   "source": [
    "def upload_to_firebase(data):\n",
    "    collection_ref = db.collection('tweets')\n",
    "\n",
    "    #records = data.to_dict(orient='records')\n",
    "    \n",
    "    for tweet in data:\n",
    "        tweet_link = tweet[\"link\"]\n",
    "        existing_tweets = collection_ref.where('link', '==', tweet_link).stream()\n",
    "        if not any(existing_tweets):\n",
    "            doc_ref = collection_ref.document() \n",
    "            doc_ref.set(tweet)\n",
    "            print(f\"Uploaded tweet with ID {tweet_link}\")\n",
    "        else:\n",
    "            print(f\"Duplicate tweet with ID {tweet_link} skipped.\")\n",
    "    print(\"Data uploaded to Firebase successfully!\")"
   ]
  },
  {
   "cell_type": "code",
   "execution_count": null,
   "id": "aabed9c3",
   "metadata": {
    "papermill": {
     "duration": null,
     "end_time": null,
     "exception": null,
     "start_time": null,
     "status": "pending"
    },
    "tags": []
   },
   "outputs": [],
   "source": [
    "upload_to_firebase(tweets_dict)"
   ]
  }
 ],
 "metadata": {
  "kernelspec": {
   "display_name": "Python 3",
   "language": "python",
   "name": "python3"
  },
  "language_info": {
   "codemirror_mode": {
    "name": "ipython",
    "version": 3
   },
   "file_extension": ".py",
   "mimetype": "text/x-python",
   "name": "python",
   "nbconvert_exporter": "python",
   "pygments_lexer": "ipython3",
   "version": "3.12.4"
  },
  "papermill": {
   "default_parameters": {},
   "duration": 22.245167,
   "end_time": "2024-10-03T16:49:17.528559",
   "environment_variables": {},
   "exception": true,
   "input_path": "../scraper.ipynb",
   "output_path": "../scraper_output.ipynb",
   "parameters": {},
   "start_time": "2024-10-03T16:48:55.283392",
   "version": "2.6.0"
  }
 },
 "nbformat": 4,
 "nbformat_minor": 5
}